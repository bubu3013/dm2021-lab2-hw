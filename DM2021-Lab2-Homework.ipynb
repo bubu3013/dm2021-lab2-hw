{
 "cells": [
  {
   "cell_type": "markdown",
   "metadata": {},
   "source": [
    "### Student Information\n",
    "Name:嚴幼珊\n",
    "\n",
    "Student ID: 110062531\n",
    "\n",
    "GitHub ID: bubu3013\n",
    "\n",
    "Kaggle name: Silvia Yen\n",
    "\n",
    "Kaggle private scoreboard snapshot:\n",
    "\n",
    "[Snapshot](img/pic0.png)\n",
    "![pic0](img/pic0.png)"
   ]
  },
  {
   "cell_type": "markdown",
   "metadata": {},
   "source": [
    "---"
   ]
  },
  {
   "cell_type": "markdown",
   "metadata": {},
   "source": [
    "### Instructions"
   ]
  },
  {
   "cell_type": "markdown",
   "metadata": {},
   "source": [
    "1. First: __This part is worth 30% of your grade.__ Do the **take home** exercises in the [DM2021-Lab2-master Repo](https://github.com/fhcalderon87/DM2021-Lab2-master). You may need to copy some cells from the Lab notebook to this notebook. \n",
    "\n",
    "\n",
    "2. Second: __This part is worth 30% of your grade.__ Participate in the in-class [Kaggle Competition](https://www.kaggle.com/c/dm2021-lab2-hw2/) regarding Emotion Recognition on Twitter. The scoring will be given according to your place in the Private Leaderboard ranking: \n",
    "    - **Bottom 40%**: Get 20% of the 30% available for this section.\n",
    "\n",
    "    - **Top 41% - 100%**: Get (60-x)/6 + 20 points, where x is your ranking in the leaderboard (ie. If you rank 3rd your score will be (60-3)/6 + 20 = 29.5% out of 30%)   \n",
    "    Submit your last submission __BEFORE the deadline (Dec. 24th 11:59 pm, Friday)__. Make sure to take a screenshot of your position at the end of the competition and store it as '''pic0.png''' under the **img** folder of this repository and rerun the cell **Student Information**.\n",
    "    \n",
    "\n",
    "3. Third: __This part is worth 30% of your grade.__ A report of your work developping the model for the competition (You can use code and comment it). This report should include what your preprocessing steps, the feature engineering steps and an explanation of your model. You can also mention different things you tried and insights you gained. \n",
    "\n",
    "\n",
    "4. Fourth: __This part is worth 10% of your grade.__ It's hard for us to follow if your code is messy :'(, so please **tidy up your notebook** and **add minimal comments where needed**.\n",
    "\n",
    "\n",
    "Upload your files to your repository then submit the link to it on the corresponding e-learn assignment.\n",
    "\n",
    "Make sure to commit and save your changes to your repository __BEFORE the deadline (Dec. 29th 11:59 pm, Wednesday)__. "
   ]
  },
  {
   "cell_type": "code",
   "execution_count": 1,
   "metadata": {
    "scrolled": true
   },
   "outputs": [],
   "source": [
    "### Begin Assignment Here"
   ]
  },
  {
   "cell_type": "markdown",
   "metadata": {},
   "source": [
    "# Data Mining Lab 2\n",
    "In this lab session we will focus on the use of Neural Word Embeddings "
   ]
  },
  {
   "cell_type": "markdown",
   "metadata": {},
   "source": [
    "## Table of Contents\n",
    "1. Data preparation\n",
    "2. Feature engineering\n",
    "3. Model\n",
    "4. Results evaluation\n",
    "5. Other things you could try\n",
    "6. Deep Learning\n",
    "7. Word to Vector\n",
    "8. Clustering\n",
    "9. High-dimension Visualization\n",
    "\n"
   ]
  },
  {
   "cell_type": "markdown",
   "metadata": {},
   "source": [
    "### Necessary Library Requirements:\n",
    "\n",
    "#### Same as Lab1:\n",
    "- [Jupyter](http://jupyter.org/) (Strongly recommended but not required)\n",
    "    - Install via `pip3 install jupyter` and use `jupyter notebook` in terminal to run\n",
    "- [Scikit Learn](http://scikit-learn.org/stable/index.html)\n",
    "    - Install via `pip3 sklearn` from a terminal\n",
    "- [Pandas](http://pandas.pydata.org/)\n",
    "    - Install via `pip3 install pandas` from a terminal\n",
    "- [Numpy](http://www.numpy.org/)\n",
    "    - Install via `pip3 install numpy` from a terminal\n",
    "- [Matplotlib](https://matplotlib.org/)\n",
    "    - Install via `pip3 maplotlib` from a terminal\n",
    "- [Plotly](https://plot.ly/)\n",
    "    - Install via `pip3 install plotly` from a terminal\n",
    "- [Seaborn](https://seaborn.pydata.org/)\n",
    "    - Install and signup for `seaborn`\n",
    "- [NLTK](http://www.nltk.org/)\n",
    "    - Install via `pip3 install nltk` from a terminal\n",
    "    \n",
    "#### New Libraries to intsall:\n",
    "- [Gensim](https://pypi.org/project/gensim/)\n",
    "    - Install via `pip3 install gensim`\n",
    "\n",
    "- [Keras](https://keras.io/)\n",
    "    - Install via `pip3 install keras`\n",
    "    \n",
    "                                                                                            \n",
    "                                                                                           "
   ]
  },
  {
   "cell_type": "markdown",
   "metadata": {},
   "source": [
    "---\n",
    "## Introduction"
   ]
  },
  {
   "cell_type": "markdown",
   "metadata": {},
   "source": [
    "**Dataset:** [SemEval 2017 Task](https://competitions.codalab.org/competitions/16380)\n",
    "\n",
    "**Task:** Classify text data into 4 different emotions using word embedding and other deep information retrieval approaches.\n",
    "\n",
    "![pic0](pics/pic0.png)"
   ]
  },
  {
   "cell_type": "markdown",
   "metadata": {},
   "source": [
    "---\n",
    "## 1. Data Preparation"
   ]
  },
  {
   "cell_type": "markdown",
   "metadata": {},
   "source": [
    "Before beggining the lab, please make sure to download the [Google News Dataset](https://drive.google.com/file/d/0B7XkCwpI5KDYNlNUTTlSS21pQmM/edit) and place it in a folder named \"GoogleNews\" in the same directory as this file."
   ]
  },
  {
   "cell_type": "markdown",
   "metadata": {},
   "source": [
    "## 1.1 Load data\n",
    "\n",
    "We start by loading the csv files into a single pandas dataframe for training and one for testing."
   ]
  },
  {
   "cell_type": "code",
   "execution_count": 2,
   "metadata": {
    "scrolled": true
   },
   "outputs": [],
   "source": [
    "import pandas as pd\n",
    "\n",
    "### training data\n",
    "anger_train = pd.read_csv(\"data/semeval/train/anger-ratings-0to1.train.txt\",\n",
    "                         sep=\"\\t\", header=None,names=[\"id\", \"text\", \"emotion\", \"intensity\"])\n",
    "sadness_train = pd.read_csv(\"data/semeval/train/sadness-ratings-0to1.train.txt\",\n",
    "                         sep=\"\\t\", header=None, names=[\"id\", \"text\", \"emotion\", \"intensity\"])\n",
    "fear_train = pd.read_csv(\"data/semeval/train/fear-ratings-0to1.train.txt\",\n",
    "                         sep=\"\\t\", header=None, names=[\"id\", \"text\", \"emotion\", \"intensity\"])\n",
    "joy_train = pd.read_csv(\"data/semeval/train/joy-ratings-0to1.train.txt\",\n",
    "                         sep=\"\\t\", header=None, names=[\"id\", \"text\", \"emotion\", \"intensity\"])"
   ]
  },
  {
   "cell_type": "code",
   "execution_count": 3,
   "metadata": {
    "scrolled": true
   },
   "outputs": [],
   "source": [
    "# combine 4 sub-dataset\n",
    "# concatenate\n",
    "train_df = pd.concat([anger_train, fear_train, joy_train, sadness_train], ignore_index=True)"
   ]
  },
  {
   "cell_type": "code",
   "execution_count": 4,
   "metadata": {
    "scrolled": true
   },
   "outputs": [
    {
     "data": {
      "text/html": [
       "<div>\n",
       "<style scoped>\n",
       "    .dataframe tbody tr th:only-of-type {\n",
       "        vertical-align: middle;\n",
       "    }\n",
       "\n",
       "    .dataframe tbody tr th {\n",
       "        vertical-align: top;\n",
       "    }\n",
       "\n",
       "    .dataframe thead th {\n",
       "        text-align: right;\n",
       "    }\n",
       "</style>\n",
       "<table border=\"1\" class=\"dataframe\">\n",
       "  <thead>\n",
       "    <tr style=\"text-align: right;\">\n",
       "      <th></th>\n",
       "      <th>id</th>\n",
       "      <th>text</th>\n",
       "      <th>emotion</th>\n",
       "      <th>intensity</th>\n",
       "    </tr>\n",
       "  </thead>\n",
       "  <tbody>\n",
       "    <tr>\n",
       "      <th>0</th>\n",
       "      <td>10000</td>\n",
       "      <td>How the fu*k! Who the heck! moved my fridge!.....</td>\n",
       "      <td>anger</td>\n",
       "      <td>0.938</td>\n",
       "    </tr>\n",
       "    <tr>\n",
       "      <th>1</th>\n",
       "      <td>10001</td>\n",
       "      <td>So my Indian Uber driver just called someone t...</td>\n",
       "      <td>anger</td>\n",
       "      <td>0.896</td>\n",
       "    </tr>\n",
       "    <tr>\n",
       "      <th>2</th>\n",
       "      <td>10002</td>\n",
       "      <td>@DPD_UK I asked for my parcel to be delivered ...</td>\n",
       "      <td>anger</td>\n",
       "      <td>0.896</td>\n",
       "    </tr>\n",
       "    <tr>\n",
       "      <th>3</th>\n",
       "      <td>10003</td>\n",
       "      <td>so ef whichever butt wipe pulled the fire alar...</td>\n",
       "      <td>anger</td>\n",
       "      <td>0.896</td>\n",
       "    </tr>\n",
       "    <tr>\n",
       "      <th>4</th>\n",
       "      <td>10004</td>\n",
       "      <td>Don't join @BTCare they put the phone down on ...</td>\n",
       "      <td>anger</td>\n",
       "      <td>0.896</td>\n",
       "    </tr>\n",
       "  </tbody>\n",
       "</table>\n",
       "</div>"
      ],
      "text/plain": [
       "      id                                               text emotion  intensity\n",
       "0  10000  How the fu*k! Who the heck! moved my fridge!.....   anger      0.938\n",
       "1  10001  So my Indian Uber driver just called someone t...   anger      0.896\n",
       "2  10002  @DPD_UK I asked for my parcel to be delivered ...   anger      0.896\n",
       "3  10003  so ef whichever butt wipe pulled the fire alar...   anger      0.896\n",
       "4  10004  Don't join @BTCare they put the phone down on ...   anger      0.896"
      ]
     },
     "execution_count": 4,
     "metadata": {},
     "output_type": "execute_result"
    }
   ],
   "source": [
    "### testing data\n",
    "anger_test = pd.read_csv(\"data/semeval/dev/anger-ratings-0to1.dev.gold.txt\",\n",
    "                         sep=\"\\t\", header=None, names=[\"id\", \"text\", \"emotion\", \"intensity\"])\n",
    "sadness_test = pd.read_csv(\"data/semeval/dev/sadness-ratings-0to1.dev.gold.txt\",\n",
    "                         sep=\"\\t\", header=None, names=[\"id\", \"text\", \"emotion\", \"intensity\"])\n",
    "fear_test = pd.read_csv(\"data/semeval/dev/fear-ratings-0to1.dev.gold.txt\",\n",
    "                         sep=\"\\t\", header=None, names=[\"id\", \"text\", \"emotion\", \"intensity\"])\n",
    "joy_test = pd.read_csv(\"data/semeval/dev/joy-ratings-0to1.dev.gold.txt\",\n",
    "                         sep=\"\\t\", header=None, names=[\"id\", \"text\", \"emotion\", \"intensity\"])\n",
    "\n",
    "# combine 4 sub-dataset\n",
    "test_df = pd.concat([anger_test, fear_test, joy_test, sadness_test], ignore_index=True)\n",
    "train_df.head()"
   ]
  },
  {
   "cell_type": "code",
   "execution_count": 5,
   "metadata": {
    "scrolled": true
   },
   "outputs": [],
   "source": [
    "# shuffle dataset\n",
    "train_df = train_df.sample(frac=1)#do the complete dataset\n",
    "test_df = test_df.sample(frac=1)"
   ]
  },
  {
   "cell_type": "code",
   "execution_count": 6,
   "metadata": {
    "scrolled": false
   },
   "outputs": [
    {
     "name": "stdout",
     "output_type": "stream",
     "text": [
      "Shape of Training df:  (3613, 4)\n",
      "Shape of Testing df:  (347, 4)\n"
     ]
    }
   ],
   "source": [
    "print(\"Shape of Training df: \", train_df.shape)\n",
    "print(\"Shape of Testing df: \", test_df.shape)"
   ]
  },
  {
   "cell_type": "markdown",
   "metadata": {},
   "source": [
    "---\n",
    "### ** >>> Exercise 1 (Take home): **  \n",
    "Plot word frequency for Top 30 words in both train and test dataset. (Hint: refer to DM lab 1)\n"
   ]
  },
  {
   "cell_type": "markdown",
   "metadata": {},
   "source": [
    "### Training data"
   ]
  },
  {
   "cell_type": "code",
   "execution_count": 7,
   "metadata": {
    "scrolled": true
   },
   "outputs": [],
   "source": [
    "import nltk"
   ]
  },
  {
   "cell_type": "code",
   "execution_count": 8,
   "metadata": {
    "scrolled": true
   },
   "outputs": [],
   "source": [
    "top_N = 30\n",
    "\n",
    "word_dist = nltk.FreqDist(train_df['text'])"
   ]
  },
  {
   "cell_type": "code",
   "execution_count": 9,
   "metadata": {
    "scrolled": true
   },
   "outputs": [],
   "source": [
    "word_frequenct = []"
   ]
  },
  {
   "cell_type": "code",
   "execution_count": 10,
   "metadata": {
    "scrolled": true
   },
   "outputs": [],
   "source": [
    "word_frequency = train_df.text.str.split(expand=True).stack().value_counts()\n",
    "word_frequency = word_frequency[:30]"
   ]
  },
  {
   "cell_type": "code",
   "execution_count": 11,
   "metadata": {
    "scrolled": true
   },
   "outputs": [],
   "source": [
    "# save a list of word_frequency's index\n",
    "x_label = word_frequency.index\n",
    "y_label = word_frequency.values"
   ]
  },
  {
   "cell_type": "code",
   "execution_count": 12,
   "metadata": {
    "scrolled": true
   },
   "outputs": [
    {
     "data": {
      "image/png": "[encoded data removed]",
      "text/plain": [
       "<Figure size 432x288 with 1 Axes>"
      ]
     },
     "metadata": {
      "needs_background": "light"
     },
     "output_type": "display_data"
    }
   ],
   "source": [
    "# reference: \n",
    "# https://vimsky.com/zh-tw/examples/usage/matplotlib-pyplot-hist-in-python.html\n",
    "# https://www.delftstack.com/zh-tw/howto/matplotlib/set-x-axis-values-matplotlib/\n",
    "%matplotlib inline\n",
    "import numpy as np\n",
    "import matplotlib.pyplot as plt\n",
    "import matplotlib.ticker as mticker\n",
    "\n",
    "# draw a histogram\n",
    "# 調整y軸大小\n",
    "# 調整x字的方向\n",
    "\n",
    "plt.bar(x_label,y_label, tick_label=x_label)\n",
    "plt.xticks(x_label,word_frequency.index)\n",
    "plt.xticks(rotation=90)\n",
    "\n",
    "\n",
    "plt.show()"
   ]
  },
  {
   "cell_type": "markdown",
   "metadata": {},
   "source": [
    "### Test data"
   ]
  },
  {
   "cell_type": "code",
   "execution_count": 13,
   "metadata": {
    "scrolled": true
   },
   "outputs": [],
   "source": [
    "top_N = 30\n",
    "\n",
    "word_dist = nltk.FreqDist(test_df['text'])"
   ]
  },
  {
   "cell_type": "code",
   "execution_count": 14,
   "metadata": {
    "scrolled": true
   },
   "outputs": [],
   "source": [
    "word_frequenct = []"
   ]
  },
  {
   "cell_type": "code",
   "execution_count": 15,
   "metadata": {
    "scrolled": true
   },
   "outputs": [],
   "source": [
    "word_frequency = test_df.text.str.split(expand=True).stack().value_counts()\n",
    "word_frequency = word_frequency[:30]"
   ]
  },
  {
   "cell_type": "code",
   "execution_count": 16,
   "metadata": {
    "scrolled": true
   },
   "outputs": [],
   "source": [
    "# save a list of word_frequency's index\n",
    "x_label = word_frequency.index\n",
    "y_label = word_frequency.values"
   ]
  },
  {
   "cell_type": "code",
   "execution_count": 17,
   "metadata": {
    "scrolled": true
   },
   "outputs": [
    {
     "data": {
      "image/png": "[encoded data removed]",
      "text/plain": [
       "<Figure size 432x288 with 1 Axes>"
      ]
     },
     "metadata": {
      "needs_background": "light"
     },
     "output_type": "display_data"
    }
   ],
   "source": [
    "# reference: \n",
    "# https://vimsky.com/zh-tw/examples/usage/matplotlib-pyplot-hist-in-python.html\n",
    "# https://www.delftstack.com/zh-tw/howto/matplotlib/set-x-axis-values-matplotlib/\n",
    "%matplotlib inline\n",
    "import numpy as np\n",
    "import matplotlib.pyplot as plt\n",
    "import matplotlib.ticker as mticker\n",
    "\n",
    "# draw a histogram\n",
    "# 調整y軸大小\n",
    "# 調整x字的方向\n",
    "\n",
    "plt.bar(x_label,y_label, tick_label=x_label)\n",
    "plt.xticks(x_label,word_frequency.index)\n",
    "plt.xticks(rotation=90)\n",
    "\n",
    "\n",
    "plt.show()"
   ]
  },
  {
   "cell_type": "markdown",
   "metadata": {},
   "source": [
    "---\n",
    "### 1.2 Save data"
   ]
  },
  {
   "cell_type": "markdown",
   "metadata": {},
   "source": [
    "We will save our data in Pickle format. The pickle module implements binary protocols for serializing and de-serializing a Python object structure.   \n",
    "  \n",
    "Some advantages for using pickle structure:  \n",
    "* Because it stores the attribute type, it's more convenient for cross-platform use.  \n",
    "* When your data is huge, it could use less space to store also consume less loading time.   "
   ]
  },
  {
   "cell_type": "code",
   "execution_count": 18,
   "metadata": {
    "scrolled": true
   },
   "outputs": [],
   "source": [
    "## save to pickle file\n",
    "## if the data is big, pickle is efficient\n",
    "train_df.to_pickle(\"train_df.pkl\") \n",
    "test_df.to_pickle(\"test_df.pkl\")"
   ]
  },
  {
   "cell_type": "code",
   "execution_count": 19,
   "metadata": {
    "scrolled": true
   },
   "outputs": [],
   "source": [
    "import pandas as pd\n",
    "\n",
    "## load a pickle file\n",
    "train_df = pd.read_pickle(\"train_df.pkl\")\n",
    "test_df = pd.read_pickle(\"test_df.pkl\")"
   ]
  },
  {
   "cell_type": "markdown",
   "metadata": {},
   "source": [
    "For more information: https://reurl.cc/0Dzqx"
   ]
  },
  {
   "cell_type": "markdown",
   "metadata": {},
   "source": [
    "---\n",
    "### 1.3 Exploratory data analysis (EDA)\n",
    "\n",
    "Again, before getting our hands dirty, we need to explore a little bit and understand the data we're dealing with."
   ]
  },
  {
   "cell_type": "code",
   "execution_count": 20,
   "metadata": {
    "scrolled": true
   },
   "outputs": [],
   "source": [
    "# train_df.groupby(['emotion']).size(): with NaN\n",
    "# train_df.groupby(['emotion']).count(): without NaN\n",
    "# train_df.groupby(['emotion']).mean(): get the mean value"
   ]
  },
  {
   "cell_type": "code",
   "execution_count": 21,
   "metadata": {
    "scrolled": true
   },
   "outputs": [
    {
     "data": {
      "text/plain": [
       "emotion\n",
       "anger       857\n",
       "fear       1147\n",
       "joy         823\n",
       "sadness     786\n",
       "Name: text, dtype: int64"
      ]
     },
     "execution_count": 21,
     "metadata": {},
     "output_type": "execute_result"
    }
   ],
   "source": [
    "#group to find distribution\n",
    "train_df.groupby(['emotion']).count()['text'] # groupby: 根據某些條件將數據分成幾組"
   ]
  },
  {
   "cell_type": "code",
   "execution_count": 22,
   "metadata": {
    "scrolled": true
   },
   "outputs": [
    {
     "data": {
      "image/png": "[encoded data removed]",
      "text/plain": [
       "<Figure size 360x216 with 1 Axes>"
      ]
     },
     "metadata": {
      "needs_background": "light"
     },
     "output_type": "display_data"
    }
   ],
   "source": [
    "%matplotlib inline\n",
    "import numpy as np\n",
    "import matplotlib.pyplot as plt\n",
    "\n",
    "# the histogram of the data\n",
    "labels = train_df['emotion'].unique() #處理DataFrame的單列時使用，並返回一列的所有唯一元素\n",
    "post_total = len(train_df)\n",
    "df1 = train_df.groupby(['emotion']).count()['text']\n",
    "df1 = df1.apply(lambda x: round(x*100/post_total,3)) #lamba: 匿名函式, round(x):DataFrame四捨五入到小數位數x\n",
    "\n",
    "#plot\n",
    "fig, ax = plt.subplots(figsize=(5,3))\n",
    "plt.bar(df1.index,df1.values)\n",
    "\n",
    "#arrange\n",
    "plt.ylabel('% of instances')\n",
    "plt.xlabel('Emotion')\n",
    "plt.title('Emotion distribution')\n",
    "plt.grid(True)\n",
    "plt.show()"
   ]
  },
  {
   "cell_type": "markdown",
   "metadata": {},
   "source": [
    "---"
   ]
  },
  {
   "cell_type": "markdown",
   "metadata": {},
   "source": [
    "## 2. Feature engineering\n",
    "### Using Bag of Words\n",
    "Using scikit-learn ```CountVectorizer``` perform word frequency and use these as features to train a model.  \n",
    "http://scikit-learn.org/stable/modules/generated/sklearn.feature_extraction.text.CountVectorizer.html"
   ]
  },
  {
   "cell_type": "code",
   "execution_count": 23,
   "metadata": {
    "scrolled": true
   },
   "outputs": [],
   "source": [
    "from sklearn.feature_extraction.text import CountVectorizer"
   ]
  },
  {
   "cell_type": "code",
   "execution_count": 24,
   "metadata": {
    "scrolled": true
   },
   "outputs": [],
   "source": [
    "# build analyzers (bag-of-words)\n",
    "BOW_vectorizer = CountVectorizer() "
   ]
  },
  {
   "cell_type": "code",
   "execution_count": 25,
   "metadata": {
    "scrolled": true
   },
   "outputs": [],
   "source": [
    "# 1. Learn a vocabulary dictionary of all tokens in the raw documents.\n",
    "BOW_vectorizer.fit(train_df['text']) #.fit():算均值，平方差啊，最大/小值。可以理解為一個訓練過程。\n",
    "# 2. Transform documents to document-term matrix.\n",
    "train_data_BOW_features = BOW_vectorizer.transform(train_df['text']) #.transform():在Fit的基礎上，進行標準化，降維，歸一化等操作\n",
    "test_data_BOW_features = BOW_vectorizer.transform(test_df['text'])   # fit_transform() = fit() + transform()"
   ]
  },
  {
   "cell_type": "code",
   "execution_count": 26,
   "metadata": {
    "scrolled": true
   },
   "outputs": [
    {
     "data": {
      "text/plain": [
       "<3613x10115 sparse matrix of type '<class 'numpy.int64'>'\n",
       "\twith 51467 stored elements in Compressed Sparse Row format>"
      ]
     },
     "execution_count": 26,
     "metadata": {},
     "output_type": "execute_result"
    }
   ],
   "source": [
    "# check the result\n",
    "train_data_BOW_features"
   ]
  },
  {
   "cell_type": "code",
   "execution_count": 27,
   "metadata": {
    "scrolled": true
   },
   "outputs": [
    {
     "data": {
      "text/plain": [
       "scipy.sparse.csr.csr_matrix"
      ]
     },
     "execution_count": 27,
     "metadata": {},
     "output_type": "execute_result"
    }
   ],
   "source": [
    "type(train_data_BOW_features)"
   ]
  },
  {
   "cell_type": "code",
   "execution_count": 28,
   "metadata": {
    "scrolled": false
   },
   "outputs": [
    {
     "data": {
      "text/plain": [
       "array([[0, 0, 0, ..., 0, 0, 0],\n",
       "       [0, 0, 0, ..., 0, 0, 0],\n",
       "       [0, 0, 0, ..., 0, 0, 0],\n",
       "       ...,\n",
       "       [0, 0, 0, ..., 0, 0, 0],\n",
       "       [0, 0, 0, ..., 0, 0, 0],\n",
       "       [0, 0, 0, ..., 0, 0, 0]], dtype=int64)"
      ]
     },
     "execution_count": 28,
     "metadata": {},
     "output_type": "execute_result"
    }
   ],
   "source": [
    "# add .toarray() to show\n",
    "train_data_BOW_features.toarray()"
   ]
  },
  {
   "cell_type": "code",
   "execution_count": 29,
   "metadata": {
    "scrolled": true
   },
   "outputs": [
    {
     "data": {
      "text/plain": [
       "(3613, 10115)"
      ]
     },
     "execution_count": 29,
     "metadata": {},
     "output_type": "execute_result"
    }
   ],
   "source": [
    "# check the dimension\n",
    "train_data_BOW_features.shape"
   ]
  },
  {
   "cell_type": "code",
   "execution_count": 30,
   "metadata": {
    "scrolled": true
   },
   "outputs": [
    {
     "data": {
      "text/plain": [
       "['2k17', '2much', '2nd', '30', '300', '301', '30am', '30pm', '30s', '31']"
      ]
     },
     "execution_count": 30,
     "metadata": {},
     "output_type": "execute_result"
    }
   ],
   "source": [
    "# observe some feature names\n",
    "feature_names = BOW_vectorizer.get_feature_names() # get the values of the cols\n",
    "feature_names[100:110]"
   ]
  },
  {
   "cell_type": "code",
   "execution_count": 31,
   "metadata": {
    "scrolled": true
   },
   "outputs": [],
   "source": [
    "# feature_names"
   ]
  },
  {
   "cell_type": "markdown",
   "metadata": {},
   "source": [
    " "
   ]
  },
  {
   "cell_type": "markdown",
   "metadata": {},
   "source": [
    "The embedding is done. We can technically feed this into our model. However, depending on the embedding technique you use and your model, your accuracy might not be as high, because:\n",
    "\n",
    "* curse of dimensionality  (we have 10,115 dimension now)\n",
    "* some important features are ignored (for example, some models using emoticons yeld better performance than counterparts)"
   ]
  },
  {
   "cell_type": "code",
   "execution_count": 32,
   "metadata": {
    "scrolled": true
   },
   "outputs": [
    {
     "data": {
      "text/plain": [
       "False"
      ]
     },
     "execution_count": 32,
     "metadata": {},
     "output_type": "execute_result"
    }
   ],
   "source": [
    "\"😂\" in feature_names"
   ]
  },
  {
   "cell_type": "markdown",
   "metadata": {},
   "source": [
    "Let's try using another tokenizer below."
   ]
  },
  {
   "cell_type": "code",
   "execution_count": 33,
   "metadata": {
    "scrolled": true
   },
   "outputs": [
    {
     "name": "stderr",
     "output_type": "stream",
     "text": [
      "C:\\Users\\Silvia\\anaconda3\\lib\\site-packages\\sklearn\\feature_extraction\\text.py:489: UserWarning: The parameter 'token_pattern' will not be used since 'tokenizer' is not None'\n",
      "  warnings.warn(\"The parameter 'token_pattern' will not be used\"\n"
     ]
    },
    {
     "data": {
      "text/plain": [
       "(3613, 500)"
      ]
     },
     "execution_count": 33,
     "metadata": {},
     "output_type": "execute_result"
    }
   ],
   "source": [
    "import nltk\n",
    "\n",
    "# build analyzers (bag-of-words)\n",
    "BOW_500 = CountVectorizer(max_features=500, tokenizer=nltk.word_tokenize) \n",
    "\n",
    "# apply analyzer to training data\n",
    "# fit to learn the token\n",
    "BOW_500.fit(train_df['text'])\n",
    "\n",
    "train_data_BOW_features_500 = BOW_500.transform(train_df['text'])\n",
    "\n",
    "## check dimension\n",
    "train_data_BOW_features_500.shape"
   ]
  },
  {
   "cell_type": "code",
   "execution_count": 34,
   "metadata": {
    "scrolled": true
   },
   "outputs": [
    {
     "data": {
      "text/plain": [
       "array([[0, 2, 0, ..., 0, 0, 0],\n",
       "       [0, 3, 0, ..., 0, 0, 0],\n",
       "       [0, 8, 0, ..., 0, 0, 0],\n",
       "       ...,\n",
       "       [0, 1, 0, ..., 0, 0, 0],\n",
       "       [0, 0, 0, ..., 0, 0, 0],\n",
       "       [0, 3, 0, ..., 0, 0, 0]], dtype=int64)"
      ]
     },
     "execution_count": 34,
     "metadata": {},
     "output_type": "execute_result"
    }
   ],
   "source": [
    "train_data_BOW_features_500.toarray()"
   ]
  },
  {
   "cell_type": "code",
   "execution_count": 35,
   "metadata": {
    "scrolled": true
   },
   "outputs": [
    {
     "data": {
      "text/plain": [
       "['change',\n",
       " 'cheer',\n",
       " 'cheerful',\n",
       " 'cheerfully',\n",
       " 'cheering',\n",
       " 'cheery',\n",
       " 'come',\n",
       " 'comes',\n",
       " 'could',\n",
       " 'country']"
      ]
     },
     "execution_count": 35,
     "metadata": {},
     "output_type": "execute_result"
    }
   ],
   "source": [
    "# observe some feature names\n",
    "feature_names_500 = BOW_500.get_feature_names()\n",
    "feature_names_500[100:110]"
   ]
  },
  {
   "cell_type": "code",
   "execution_count": 36,
   "metadata": {
    "scrolled": true
   },
   "outputs": [
    {
     "data": {
      "text/plain": [
       "True"
      ]
     },
     "execution_count": 36,
     "metadata": {},
     "output_type": "execute_result"
    }
   ],
   "source": [
    "\"😂\" in feature_names_500"
   ]
  },
  {
   "cell_type": "markdown",
   "metadata": {},
   "source": [
    "---\n",
    "### ** >>> Exercise 2 (Take home): **  \n",
    "Generate an embedding using the TF-IDF vectorizer instead of th BOW one with 1000 features and show the feature names for features [100:110]."
   ]
  },
  {
   "cell_type": "code",
   "execution_count": 37,
   "metadata": {
    "scrolled": true
   },
   "outputs": [
    {
     "data": {
      "text/plain": [
       "['change',\n",
       " 'cheer',\n",
       " 'cheerful',\n",
       " 'cheerfully',\n",
       " 'cheering',\n",
       " 'cheery',\n",
       " 'come',\n",
       " 'comes',\n",
       " 'could',\n",
       " 'country']"
      ]
     },
     "execution_count": 37,
     "metadata": {},
     "output_type": "execute_result"
    }
   ],
   "source": [
    "# Answer here\n",
    "from sklearn.feature_extraction.text import TfidfVectorizer\n",
    "\n",
    "# TF-IDF\n",
    "TFIDF_1000 = TfidfVectorizer(max_features=1000)\n",
    "# 1. Learn a vocabulary dictionary of all tokens in the raw documents.\n",
    "TFIDF_1000.fit(train_df['text'])\n",
    "# 2. Transform documents to document-term matrix.\n",
    "train_data_TFIDF_features_1000 = TFIDF_1000.transform(train_df['text'])\n",
    "\n",
    "feature_names_1000 = TFIDF_1000.get_feature_names()\n",
    "feature_names_500[100:110]"
   ]
  },
  {
   "cell_type": "code",
   "execution_count": 38,
   "metadata": {
    "scrolled": true
   },
   "outputs": [
    {
     "data": {
      "text/plain": [
       "'\\nTF-IDF 做了以下這樣的假設：\\n一個『詞彙』越常出現在一篇『文件』中，這個『詞彙』越重要\\n一個『詞彙』越常出現在多篇『文件』中，這個『詞彙』越不重要\\n'"
      ]
     },
     "execution_count": 38,
     "metadata": {},
     "output_type": "execute_result"
    }
   ],
   "source": [
    "\"\"\"\n",
    "TF-IDF 做了以下這樣的假設：\n",
    "一個『詞彙』越常出現在一篇『文件』中，這個『詞彙』越重要\n",
    "一個『詞彙』越常出現在多篇『文件』中，這個『詞彙』越不重要\n",
    "\"\"\""
   ]
  },
  {
   "cell_type": "markdown",
   "metadata": {},
   "source": [
    "---\n",
    "## 3. Model\n",
    "### 3.1 Decision Trees\n",
    "Using scikit-learn ```DecisionTreeClassifier``` performs word frequency and uses these as features to train a model.  \n",
    "http://scikit-learn.org/stable/modules/generated/sklearn.tree.DecisionTreeClassifier.html#sklearn.tree.DecisionTreeClassifier"
   ]
  },
  {
   "cell_type": "code",
   "execution_count": 39,
   "metadata": {
    "scrolled": true
   },
   "outputs": [
    {
     "name": "stdout",
     "output_type": "stream",
     "text": [
      "X_train.shape:  (3613, 500)\n",
      "y_train.shape:  (3613,)\n",
      "X_test.shape:  (347, 500)\n",
      "y_test.shape:  (347,)\n"
     ]
    }
   ],
   "source": [
    "from sklearn.tree import DecisionTreeClassifier\n",
    "\n",
    "# for a classificaiton problem, you need to provide both training & testing data\n",
    "X_train = BOW_500.transform(train_df['text'])\n",
    "y_train = train_df['emotion']\n",
    "\n",
    "X_test = BOW_500.transform(test_df['text'])\n",
    "y_test = test_df['emotion']\n",
    "\n",
    "## take a look at data dimension is a good habbit  :)\n",
    "print('X_train.shape: ', X_train.shape)\n",
    "print('y_train.shape: ', y_train.shape)\n",
    "print('X_test.shape: ', X_test.shape)\n",
    "print('y_test.shape: ', y_test.shape)"
   ]
  },
  {
   "cell_type": "code",
   "execution_count": 40,
   "metadata": {
    "scrolled": true
   },
   "outputs": [
    {
     "data": {
      "text/plain": [
       "array(['fear', 'anger', 'sadness', 'anger', 'anger', 'fear', 'fear',\n",
       "       'joy', 'sadness', 'fear'], dtype=object)"
      ]
     },
     "execution_count": 40,
     "metadata": {},
     "output_type": "execute_result"
    }
   ],
   "source": [
    "## build DecisionTree model\n",
    "DT_model = DecisionTreeClassifier(random_state=0) \n",
    "# https://www.twblogs.net/a/5c2f92c7bd9eee35b3a4b63e\n",
    "\n",
    "## training!\n",
    "DT_model = DT_model.fit(X_train, y_train)\n",
    "# fit(x, y, batch_size, ...)\n",
    "# https://blog.csdn.net/qq_41617848/article/details/99969963\n",
    "\n",
    "## predict!\n",
    "y_train_pred = DT_model.predict(X_train)\n",
    "y_test_pred = DT_model.predict(X_test)\n",
    "\n",
    "## so we get the pred result\n",
    "y_test_pred[:10]"
   ]
  },
  {
   "cell_type": "markdown",
   "metadata": {},
   "source": [
    " "
   ]
  },
  {
   "cell_type": "markdown",
   "metadata": {},
   "source": [
    "---\n",
    "## 4. Results Evaluation"
   ]
  },
  {
   "cell_type": "markdown",
   "metadata": {},
   "source": [
    "Now we will check the results of our model's performance"
   ]
  },
  {
   "cell_type": "code",
   "execution_count": 41,
   "metadata": {
    "scrolled": true
   },
   "outputs": [
    {
     "name": "stdout",
     "output_type": "stream",
     "text": [
      "training accuracy: 0.99\n",
      "testing accuracy: 0.66\n"
     ]
    }
   ],
   "source": [
    "## accuracy\n",
    "from sklearn.metrics import accuracy_score\n",
    "\n",
    "acc_train = accuracy_score(y_true=y_train, y_pred=y_train_pred)\n",
    "acc_test = accuracy_score(y_true=y_test, y_pred=y_test_pred)\n",
    "\n",
    "print('training accuracy: {}'.format(round(acc_train, 2)))\n",
    "print('testing accuracy: {}'.format(round(acc_test, 2)))\n"
   ]
  },
  {
   "cell_type": "code",
   "execution_count": 42,
   "metadata": {
    "scrolled": true
   },
   "outputs": [
    {
     "name": "stdout",
     "output_type": "stream",
     "text": [
      "              precision    recall  f1-score   support\n",
      "\n",
      "       anger       0.63      0.65      0.64        84\n",
      "        fear       0.66      0.69      0.68       110\n",
      "         joy       0.70      0.68      0.69        79\n",
      "     sadness       0.65      0.59      0.62        74\n",
      "\n",
      "    accuracy                           0.66       347\n",
      "   macro avg       0.66      0.66      0.66       347\n",
      "weighted avg       0.66      0.66      0.66       347\n",
      "\n"
     ]
    }
   ],
   "source": [
    "## precision, recall, f1-score,\n",
    "from sklearn.metrics import classification_report\n",
    "\n",
    "print(classification_report(y_true=y_test, y_pred=y_test_pred))\n",
    "# (classification_report(y_true, y_pred, target_names=target_names))\n",
    "# https://www.cnblogs.com/178mz/p/8558435.html"
   ]
  },
  {
   "cell_type": "code",
   "execution_count": 43,
   "metadata": {
    "scrolled": true
   },
   "outputs": [
    {
     "name": "stdout",
     "output_type": "stream",
     "text": [
      "[[55 20  5  4]\n",
      " [16 76  8 10]\n",
      " [ 7  8 54 10]\n",
      " [ 9 11 10 44]]\n"
     ]
    }
   ],
   "source": [
    "## check by confusion matrix\n",
    "from sklearn.metrics import confusion_matrix\n",
    "\n",
    "cm = confusion_matrix(y_true=y_test, y_pred=y_test_pred) \n",
    "print(cm)\n",
    "\n",
    "# confusion_matrix(y_true, y_pred, labels=None, sample_weight=None)\n",
    "# y_true: 是樣本真實分類結果，y_pred: 是樣本預測分類結果\n",
    "# labels：是所給出的類別，通過這個可對類別進行選擇\n",
    "# sample_weight : 樣本權重"
   ]
  },
  {
   "cell_type": "code",
   "execution_count": 44,
   "metadata": {
    "scrolled": true
   },
   "outputs": [],
   "source": [
    "# Funciton for visualizing confusion_matrix\n",
    "import matplotlib.pyplot as plt\n",
    "import seaborn as sns\n",
    "import numpy as np\n",
    "import itertools\n",
    "\n",
    "def plot_confusion_matrix(cm, classes, title='Confusion matrix',\n",
    "                          cmap=sns.cubehelix_palette(as_cmap=True)):\n",
    "    \"\"\"\n",
    "    This function is modified from: \n",
    "    http://scikit-learn.org/stable/auto_examples/model_selection/plot_confusion_matrix.html\n",
    "    \"\"\"\n",
    "    classes.sort()\n",
    "    tick_marks = np.arange(len(classes))    \n",
    "    \n",
    "    fig, ax = plt.subplots(figsize=(5,5))\n",
    "    im = ax.imshow(cm, interpolation='nearest', cmap=cmap)\n",
    "    ax.figure.colorbar(im, ax=ax)\n",
    "    ax.set(xticks=np.arange(cm.shape[1]),\n",
    "           yticks=np.arange(cm.shape[0]),\n",
    "           xticklabels = classes,\n",
    "           yticklabels = classes,\n",
    "           title = title,\n",
    "           xlabel = 'True label',\n",
    "           ylabel = 'Predicted label')\n",
    "\n",
    "    fmt = 'd'\n",
    "    thresh = cm.max() / 2.\n",
    "    for i, j in itertools.product(range(cm.shape[0]), range(cm.shape[1])):\n",
    "        plt.text(j, i, format(cm[i, j], fmt), horizontalalignment=\"center\", color=\"white\" if cm[i, j] > thresh else \"black\")\n",
    "    ylim_top = len(classes) - 0.5\n",
    "    plt.ylim([ylim_top, -.5])\n",
    "    plt.tight_layout()\n",
    "    plt.show()"
   ]
  },
  {
   "cell_type": "code",
   "execution_count": 45,
   "metadata": {
    "scrolled": true
   },
   "outputs": [
    {
     "data": {
      "image/png": "[encoded data removed]",
      "text/plain": [
       "<Figure size 360x360 with 2 Axes>"
      ]
     },
     "metadata": {
      "needs_background": "light"
     },
     "output_type": "display_data"
    }
   ],
   "source": [
    "# plot your confusion matrix\n",
    "my_tags = ['anger', 'fear', 'joy', 'sadness']\n",
    "plot_confusion_matrix(cm, classes=my_tags, title='Confusion matrix')"
   ]
  },
  {
   "cell_type": "markdown",
   "metadata": {},
   "source": [
    "---\n",
    "### ** >>> Exercise 3 (Take home): **  \n",
    "Can you interpret the results above? What do they mean?"
   ]
  },
  {
   "cell_type": "code",
   "execution_count": 46,
   "metadata": {
    "scrolled": true
   },
   "outputs": [
    {
     "data": {
      "text/plain": [
       "'\\n1. What is a cufusion matrix?\\n    Compute confusion matrix to evaluate the accuracy of a classification.\\n    A confusion matrix  C(i,j) is equal to the number of observations \\n    known to be in group \\'i\" and predicted to be in group \"j\".\\n\\n    Take the number 14 for example. C(0,2)=C(anger, fear)\\n    There are 14 emotions labed as \"anger\" but predicted as \"fear\".\\n\\n    As the color become darker, the accuracy is higher.\\n\\n2. About Accuracy.\\n\\n    The accuracy is as following. \\n    The training accuracy: 0.99\\n    The testing accuracy: 0.66\\n\\n3. The precision and recall in anger, fear, joy and sadness.\\n              precision    recall  \\n\\n           anger       0.63      0.65 \\n            fear       0.66      0.69 \\n             joy       0.70      0.68  \\n         sadness       0.65      0.59 \\n    The joy has the highest presision and the fear has the highest recall.\\n    The anger has the lowest presision and the sadness has the lowest recall.\\n    \\n4. The overall training accuracy: 0.99, abd testing accuracy: 0.66. \\n   This is overfitting because model perform well in training data but poorly in testing data.\\n'"
      ]
     },
     "execution_count": 46,
     "metadata": {},
     "output_type": "execute_result"
    }
   ],
   "source": [
    "# Answer here\n",
    "#reference:https://scikit-learn.org/stable/modules/generated/sklearn.naive_bayes.MultinomialNB.html\n",
    "\"\"\"\n",
    "1. What is a cufusion matrix?\n",
    "    Compute confusion matrix to evaluate the accuracy of a classification.\n",
    "    A confusion matrix  C(i,j) is equal to the number of observations \n",
    "    known to be in group 'i\" and predicted to be in group \"j\".\n",
    "\n",
    "    Take the number 14 for example. C(0,2)=C(anger, fear)\n",
    "    There are 14 emotions labed as \"anger\" but predicted as \"fear\".\n",
    "\n",
    "    As the color become darker, the accuracy is higher.\n",
    "\n",
    "2. About Accuracy.\n",
    "\n",
    "    The accuracy is as following. \n",
    "    The training accuracy: 0.99\n",
    "    The testing accuracy: 0.66\n",
    "\n",
    "3. The precision and recall in anger, fear, joy and sadness.\n",
    "              precision    recall  \n",
    "\n",
    "           anger       0.63      0.65 \n",
    "            fear       0.66      0.69 \n",
    "             joy       0.70      0.68  \n",
    "         sadness       0.65      0.59 \n",
    "    The joy has the highest presision and the fear has the highest recall.\n",
    "    The anger has the lowest presision and the sadness has the lowest recall.\n",
    "    \n",
    "4. The overall training accuracy: 0.99, abd testing accuracy: 0.66. \n",
    "   This is overfitting because model perform well in training data but poorly in testing data.\n",
    "\"\"\""
   ]
  },
  {
   "cell_type": "markdown",
   "metadata": {},
   "source": [
    "---\n",
    "### ** >>> Exercise 4 (Take home): **  \n",
    "Build a model using a ```Naive Bayes``` model and train it. What are the testing results? \n",
    "\n",
    "*Reference*: https://scikit-learn.org/stable/modules/generated/sklearn.naive_bayes.MultinomialNB.html"
   ]
  },
  {
   "cell_type": "code",
   "execution_count": 47,
   "metadata": {
    "scrolled": true
   },
   "outputs": [
    {
     "name": "stdout",
     "output_type": "stream",
     "text": [
      "training accuracy: 0.79\n",
      "testing accuracy: 0.7\n",
      "              precision    recall  f1-score   support\n",
      "\n",
      "       anger       0.63      0.65      0.64        84\n",
      "        fear       0.73      0.77      0.75       110\n",
      "         joy       0.78      0.71      0.74        79\n",
      "     sadness       0.64      0.62      0.63        74\n",
      "\n",
      "    accuracy                           0.70       347\n",
      "   macro avg       0.70      0.69      0.69       347\n",
      "weighted avg       0.70      0.70      0.70       347\n",
      "\n",
      "[[55 15  5  9]\n",
      " [ 9 85  5 11]\n",
      " [11  6 56  6]\n",
      " [12 10  6 46]]\n"
     ]
    },
    {
     "data": {
      "image/png": "[encoded data removed]",
      "text/plain": [
       "<Figure size 360x360 with 2 Axes>"
      ]
     },
     "metadata": {
      "needs_background": "light"
     },
     "output_type": "display_data"
    }
   ],
   "source": [
    "# Answer here\n",
    "\n",
    "from sklearn.naive_bayes import MultinomialNB\n",
    "\n",
    "## build Naive Bayes model\n",
    "NB_model = MultinomialNB()\n",
    "# https://www.twblogs.net/a/5c2f92c7bd9eee35b3a4b63e\n",
    "\n",
    "## training!\n",
    "NB_model = NB_model.fit(X_train, y_train)\n",
    "# fit(x, y, batch_size, ...)\n",
    "# https://blog.csdn.net/qq_41617848/article/details/99969963\n",
    "\n",
    "## predict!\n",
    "y_train_pred = NB_model.predict(X_train)\n",
    "y_test_pred = NB_model.predict(X_test)\n",
    "\n",
    "## accuracy\n",
    "from sklearn.metrics import accuracy_score\n",
    "\n",
    "acc_train = accuracy_score(y_true=y_train, y_pred=y_train_pred)\n",
    "acc_test = accuracy_score(y_true=y_test, y_pred=y_test_pred)\n",
    "\n",
    "print('training accuracy: {}'.format(round(acc_train, 2)))\n",
    "print('testing accuracy: {}'.format(round(acc_test, 2)))\n",
    "\n",
    "## precision, recall, f1-score,\n",
    "print(classification_report(y_true=y_test, y_pred=y_test_pred))\n",
    "\n",
    "NB_cm = confusion_matrix(y_true=y_test, y_pred=y_test_pred) \n",
    "print(NB_cm)\n",
    "\n",
    "plot_confusion_matrix(NB_cm, classes=my_tags, title='Confusion matrix')"
   ]
  },
  {
   "cell_type": "code",
   "execution_count": 48,
   "metadata": {},
   "outputs": [
    {
     "data": {
      "text/plain": [
       "'\\n1.  About Accuracy.\\n\\n    The accuracy is as following. \\n    The training accuracy: 0.79\\n    The testing accuracy: 0.7\\n\\n2.  The precision and recall in anger, fear, joy and sadness.\\n\\n              precision    recall\\n\\n       anger       0.63      0.65  \\n        fear       0.73      0.77 \\n         joy       0.78      0.71\\n     sadness       0.64      0.62\\n    The joy has the highest presision and the fear has the highest recall.\\n    The anger has the lowest presision and the sadness has the lowest recall.\\n\\n3.  The overall training accuracy: 0.79, abd testing accuracy: 0.7. \\n    This is neither overfitting nor underfitting. The result is goold.\\n'"
      ]
     },
     "execution_count": 48,
     "metadata": {},
     "output_type": "execute_result"
    }
   ],
   "source": [
    "# Answer here\n",
    "# Analysis\n",
    "\"\"\"\n",
    "1.  About Accuracy.\n",
    "\n",
    "    The accuracy is as following. \n",
    "    The training accuracy: 0.79\n",
    "    The testing accuracy: 0.7\n",
    "\n",
    "2.  The precision and recall in anger, fear, joy and sadness.\n",
    "\n",
    "              precision    recall\n",
    "\n",
    "       anger       0.63      0.65  \n",
    "        fear       0.73      0.77 \n",
    "         joy       0.78      0.71\n",
    "     sadness       0.64      0.62\n",
    "    The joy has the highest presision and the fear has the highest recall.\n",
    "    The anger has the lowest presision and the sadness has the lowest recall.\n",
    "\n",
    "3.  The overall training accuracy: 0.79, abd testing accuracy: 0.7. \n",
    "    This is neither overfitting nor underfitting. The result is goold.\n",
    "\"\"\""
   ]
  },
  {
   "cell_type": "markdown",
   "metadata": {},
   "source": [
    "---\n",
    "### ** >>> Exercise 5 (Take home): **  \n",
    "\n",
    "How do the results from the Naive Bayes model and the Decision Tree model compare? How do you interpret these differences? Use the theoretical background covered in class to try and explain these differences."
   ]
  },
  {
   "cell_type": "code",
   "execution_count": 49,
   "metadata": {
    "scrolled": true
   },
   "outputs": [
    {
     "data": {
      "text/plain": [
       "\"\\n1.  How do the results from the Naive Bayes model and the Decision Tree model compare?\\n    從Naive Bayes 跟Decision Tree model 結果比較寫出來\\n\\n    The accuracy of training data in the Naive Bayes is 0.79 abd the testing accuracy: 0.7.\\n    The accuracy of training data in the Decision Tree model is 0.99 and the testing accuracy: 0.66.\\n    Just as lectures say, decision tree tends to be overfitting. \\n    and Naive Bayes can perform well in most of cases.\\n\\n2.  How do you interpret these differences?\\nex. accuracy is the same but not the same in presision. 要預測哪種情緒用哪種model比較好? (presision, recall)\\n\\n    Now let's have a look at the presision and recall of each emotion.\\n    anger: the precision in the Naive Bayes model is 0.63 and the recall is 0.65.\\n           the precision in the Decision Tree model is 0.63 and the recall is 0.65 as well.\\n           So the two models has a very same results.\\n           \\n    fear:  the precision in the Naive Bayes model is 0.73 and the recall is 0.77.\\n           the precision in the Decision Tree model is 0.66 and the recall is 0.69.\\n           So the Naive Bayes model performs better in fear cases.\\n           \\n    joy:   the precision in the Naive Bayes model is 0.78 and the recall is 0.71.\\n           the precision in the Decision Tree model is 0.70 and the recall is 0.70.\\n           So the Naive Bayes model performs better in joy cases.\\n           \\n   sadness:the precision in the Naive Bayes model is 0.64 and the recall is 0.62.\\n           the precision in the Decision Tree model is 0.65 and the recall is 0.59.\\n           So the Decision Tree model has a higer precision but the Naive Bayes model has a higher recall.  \\n    Overall, the Naive Bayes model performs well in both fear and joy cases.\\n    the two model has similar results in anger and sadness cases.\\n\""
      ]
     },
     "execution_count": 49,
     "metadata": {},
     "output_type": "execute_result"
    }
   ],
   "source": [
    "# Answer here\n",
    "\"\"\"\n",
    "1.  How do the results from the Naive Bayes model and the Decision Tree model compare?\n",
    "    從Naive Bayes 跟Decision Tree model 結果比較寫出來\n",
    "\n",
    "    The accuracy of training data in the Naive Bayes is 0.79 abd the testing accuracy: 0.7.\n",
    "    The accuracy of training data in the Decision Tree model is 0.99 and the testing accuracy: 0.66.\n",
    "    Just as lectures say, decision tree tends to be overfitting. \n",
    "    and Naive Bayes can perform well in most of cases.\n",
    "\n",
    "2.  How do you interpret these differences?\n",
    "ex. accuracy is the same but not the same in presision. 要預測哪種情緒用哪種model比較好? (presision, recall)\n",
    "\n",
    "    Now let's have a look at the presision and recall of each emotion.\n",
    "    anger: the precision in the Naive Bayes model is 0.63 and the recall is 0.65.\n",
    "           the precision in the Decision Tree model is 0.63 and the recall is 0.65 as well.\n",
    "           So the two models has a very same results.\n",
    "           \n",
    "    fear:  the precision in the Naive Bayes model is 0.73 and the recall is 0.77.\n",
    "           the precision in the Decision Tree model is 0.66 and the recall is 0.69.\n",
    "           So the Naive Bayes model performs better in fear cases.\n",
    "           \n",
    "    joy:   the precision in the Naive Bayes model is 0.78 and the recall is 0.71.\n",
    "           the precision in the Decision Tree model is 0.70 and the recall is 0.70.\n",
    "           So the Naive Bayes model performs better in joy cases.\n",
    "           \n",
    "   sadness:the precision in the Naive Bayes model is 0.64 and the recall is 0.62.\n",
    "           the precision in the Decision Tree model is 0.65 and the recall is 0.59.\n",
    "           So the Decision Tree model has a higer precision but the Naive Bayes model has a higher recall.  \n",
    "    Overall, the Naive Bayes model performs well in both fear and joy cases.\n",
    "    the two model has similar results in anger and sadness cases.\n",
    "\"\"\""
   ]
  },
  {
   "cell_type": "markdown",
   "metadata": {},
   "source": [
    "---"
   ]
  },
  {
   "cell_type": "markdown",
   "metadata": {},
   "source": [
    "## 5. Other things you can try"
   ]
  },
  {
   "cell_type": "markdown",
   "metadata": {},
   "source": [
    "Thus, there are several things you can try that will affect your results. In order to yield better results, you can experiment by: \n",
    "    * Trying different features (Feature engineering)\n",
    "        -Eg. Word2Vec,PCA,LDA,FastText, Clustering......\n",
    "    * Trying different models\n",
    "    * Analyzing your results and interpret them to improve your feature engineering/model building process\n",
    "    * Iterate through the steps above until finding a satisfying result\n",
    "Remember that you should also consider the task at hand and the model you'll feed the data to. "
   ]
  },
  {
   "cell_type": "markdown",
   "metadata": {},
   "source": [
    " "
   ]
  },
  {
   "cell_type": "markdown",
   "metadata": {},
   "source": [
    "---\n",
    "## 6. Deep Learning\n",
    "\n",
    "We use [Keras](https://keras.io/) to be our deep learning framwork, and follow the [Model (functional API)](https://keras.io/models/model/) to build a Deep Neural Network (DNN) model. Keras runs with Tensorflow in the backend. It's a nice abstraction to start working with NN models. \n",
    "\n",
    "Because Deep Learning is a 1-semester course, we can't talk about each detail about it in the lab session. Here, we only provide a simple template about how to build & run a DL model successfully. You can follow this template to design your model.\n",
    "\n",
    "We will begin by building a fully connected network, which looks like this:"
   ]
  },
  {
   "cell_type": "markdown",
   "metadata": {},
   "source": [
    "![Fully Connected Network](pics/pic1.png)\n",
    "\n",
    "(source: https://github.com/drewnoff/spark-notebook-ml-labs/tree/master/labs/DLFramework)\n"
   ]
  },
  {
   "cell_type": "markdown",
   "metadata": {},
   "source": [
    "### 6.1 Prepare data (X, y)"
   ]
  },
  {
   "cell_type": "code",
   "execution_count": 50,
   "metadata": {
    "scrolled": false
   },
   "outputs": [
    {
     "name": "stdout",
     "output_type": "stream",
     "text": [
      "X_train.shape:  (3613, 500)\n",
      "y_train.shape:  (3613,)\n",
      "X_test.shape:  (347, 500)\n",
      "y_test.shape:  (347,)\n"
     ]
    }
   ],
   "source": [
    "import keras\n",
    "\n",
    "# standardize name (X, y) \n",
    "X_train = BOW_500.transform(train_df['text'])\n",
    "y_train = train_df['emotion']\n",
    "\n",
    "X_test = BOW_500.transform(test_df['text'])\n",
    "y_test = test_df['emotion']\n",
    "\n",
    "## check dimension is a good habbit \n",
    "print('X_train.shape: ', X_train.shape)\n",
    "print('y_train.shape: ', y_train.shape)\n",
    "print('X_test.shape: ', X_test.shape)\n",
    "print('y_test.shape: ', y_test.shape)"
   ]
  },
  {
   "cell_type": "markdown",
   "metadata": {},
   "source": [
    "### 6.2 Deal with categorical label (y)\n",
    "\n",
    "Rather than put your label `train_df['emotion']` directly into a model, we have to process these categorical (or say nominal) label by ourselves. \n",
    "\n",
    "Here, we use the basic method [one-hot encoding](https://en.wikipedia.org/wiki/One-hot) to transform our categorical  labels to numerical ones.\n"
   ]
  },
  {
   "cell_type": "code",
   "execution_count": 51,
   "metadata": {
    "scrolled": true
   },
   "outputs": [],
   "source": [
    "# https://exerror.com/found-conflicts-looking-for-incompatible-packages-this-can-take-several-minutes-press-ctrl-c-to-abort/\n",
    "# https://www.codenong.com/cs122153985/"
   ]
  },
  {
   "cell_type": "code",
   "execution_count": 52,
   "metadata": {
    "scrolled": true
   },
   "outputs": [
    {
     "name": "stdout",
     "output_type": "stream",
     "text": [
      "check label:  ['anger' 'fear' 'joy' 'sadness']\n",
      "\n",
      "## Before convert\n",
      "y_train[0:4]:\n",
      " 1007       fear\n",
      "3526    sadness\n",
      "2246        joy\n",
      "3371    sadness\n",
      "Name: emotion, dtype: object\n",
      "\n",
      "y_train.shape:  (3613,)\n",
      "y_test.shape:  (347,)\n",
      "\n",
      "\n",
      "## After convert\n",
      "y_train[0:4]:\n",
      " [[0. 1. 0. 0.]\n",
      " [0. 0. 0. 1.]\n",
      " [0. 0. 1. 0.]\n",
      " [0. 0. 0. 1.]]\n",
      "\n",
      "y_train.shape:  (3613, 4)\n",
      "y_test.shape:  (347, 4)\n"
     ]
    }
   ],
   "source": [
    "## deal with label (string -> one-hot)\n",
    "# https://blog.csdn.net/MSJ_nb/article/details/117462928\n",
    "from sklearn.preprocessing import LabelEncoder\n",
    "from keras.utils import np_utils\n",
    "\n",
    "label_encoder = LabelEncoder()\n",
    "label_encoder.fit(y_train)\n",
    "print('check label: ', label_encoder.classes_)\n",
    "print('\\n## Before convert')\n",
    "print('y_train[0:4]:\\n', y_train[0:4])\n",
    "print('\\ny_train.shape: ', y_train.shape)\n",
    "print('y_test.shape: ', y_test.shape)\n",
    "\n",
    "def label_encode(le, labels):\n",
    "    enc = le.transform(labels)\n",
    "    #return keras.utils.to_categorical(enc)\n",
    "    y_train = np_utils.to_categorical(enc)\n",
    "    return y_train\n",
    "\n",
    "def label_decode(le, one_hot_label):\n",
    "    dec = np.argmax(one_hot_label, axis=1)\n",
    "    return le.inverse_transform(dec)\n",
    "\n",
    "y_train = label_encode(label_encoder, y_train)\n",
    "y_test = label_encode(label_encoder, y_test)\n",
    "\n",
    "print('\\n\\n## After convert')\n",
    "print('y_train[0:4]:\\n', y_train[0:4])\n",
    "print('\\ny_train.shape: ', y_train.shape)\n",
    "print('y_test.shape: ', y_test.shape)\n"
   ]
  },
  {
   "cell_type": "markdown",
   "metadata": {},
   "source": [
    "### 6.3 Build model"
   ]
  },
  {
   "cell_type": "code",
   "execution_count": 53,
   "metadata": {
    "scrolled": true
   },
   "outputs": [
    {
     "name": "stdout",
     "output_type": "stream",
     "text": [
      "input_shape:  500\n",
      "output_shape:  4\n"
     ]
    }
   ],
   "source": [
    "# I/O check\n",
    "input_shape = X_train.shape[1]\n",
    "print('input_shape: ', input_shape)\n",
    "\n",
    "output_shape = len(label_encoder.classes_)\n",
    "print('output_shape: ', output_shape)"
   ]
  },
  {
   "cell_type": "markdown",
   "metadata": {},
   "source": [
    "![Imgur](pics/pic2.png)"
   ]
  },
  {
   "cell_type": "code",
   "execution_count": 54,
   "metadata": {
    "scrolled": true
   },
   "outputs": [
    {
     "name": "stdout",
     "output_type": "stream",
     "text": [
      "Model: \"model\"\n",
      "_________________________________________________________________\n",
      " Layer (type)                Output Shape              Param #   \n",
      "=================================================================\n",
      " input_1 (InputLayer)        [(None, 500)]             0         \n",
      "                                                                 \n",
      " dense (Dense)               (None, 64)                32064     \n",
      "                                                                 \n",
      " re_lu (ReLU)                (None, 64)                0         \n",
      "                                                                 \n",
      " dense_1 (Dense)             (None, 64)                4160      \n",
      "                                                                 \n",
      " re_lu_1 (ReLU)              (None, 64)                0         \n",
      "                                                                 \n",
      " dense_2 (Dense)             (None, 4)                 260       \n",
      "                                                                 \n",
      " softmax (Softmax)           (None, 4)                 0         \n",
      "                                                                 \n",
      "=================================================================\n",
      "Total params: 36,484\n",
      "Trainable params: 36,484\n",
      "Non-trainable params: 0\n",
      "_________________________________________________________________\n"
     ]
    }
   ],
   "source": [
    "from keras.models import Model\n",
    "from keras.layers import Input, Dense\n",
    "from keras.layers import ReLU, Softmax\n",
    "\n",
    "# input layer\n",
    "model_input = Input(shape=(input_shape, ))  # 500\n",
    "X = model_input\n",
    "\n",
    "# 1st hidden layer\n",
    "X_W1 = Dense(units=64)(X)  # 64\n",
    "H1 = ReLU()(X_W1)\n",
    "\n",
    "# 2nd hidden layer\n",
    "H1_W2 = Dense(units=64)(H1)  # 64\n",
    "H2 = ReLU()(H1_W2)\n",
    "\n",
    "# output layer\n",
    "H2_W3 = Dense(units=output_shape)(H2)  # 4\n",
    "H3 = Softmax()(H2_W3)\n",
    "\n",
    "model_output = H3\n",
    "\n",
    "# create model\n",
    "model = Model(inputs=[model_input], outputs=[model_output])\n",
    "\n",
    "# loss function & optimizer\n",
    "model.compile(optimizer='adam',\n",
    "              loss='categorical_crossentropy',\n",
    "              metrics=['accuracy'])\n",
    "\n",
    "# show model construction\n",
    "model.summary()"
   ]
  },
  {
   "cell_type": "markdown",
   "metadata": {},
   "source": [
    "### 6.4 Train"
   ]
  },
  {
   "cell_type": "code",
   "execution_count": 55,
   "metadata": {
    "scrolled": true
   },
   "outputs": [
    {
     "name": "stdout",
     "output_type": "stream",
     "text": [
      "Epoch 1/25\n"
     ]
    },
    {
     "name": "stderr",
     "output_type": "stream",
     "text": [
      "C:\\Users\\Silvia\\anaconda3\\lib\\site-packages\\tensorflow\\python\\framework\\indexed_slices.py:448: UserWarning: Converting sparse IndexedSlices(IndexedSlices(indices=Tensor(\"gradient_tape/model/dense/embedding_lookup_sparse/Reshape_1:0\", shape=(None,), dtype=int32), values=Tensor(\"gradient_tape/model/dense/embedding_lookup_sparse/Reshape:0\", shape=(None, 64), dtype=float32), dense_shape=Tensor(\"gradient_tape/model/dense/embedding_lookup_sparse/Cast:0\", shape=(2,), dtype=int32))) to a dense Tensor of unknown shape. This may consume a large amount of memory.\n",
      "  warnings.warn(\n"
     ]
    },
    {
     "name": "stdout",
     "output_type": "stream",
     "text": [
      "113/113 [==============================] - 1s 2ms/step - loss: 1.3396 - accuracy: 0.3479 - val_loss: 1.3034 - val_accuracy: 0.4179\n",
      "Epoch 2/25\n",
      "113/113 [==============================] - 0s 1ms/step - loss: 1.0098 - accuracy: 0.6360 - val_loss: 0.9403 - val_accuracy: 0.6427\n",
      "Epoch 3/25\n",
      "113/113 [==============================] - 0s 1ms/step - loss: 0.5784 - accuracy: 0.7944 - val_loss: 0.8038 - val_accuracy: 0.6916\n",
      "Epoch 4/25\n",
      "113/113 [==============================] - 0s 1ms/step - loss: 0.4111 - accuracy: 0.8445 - val_loss: 0.8224 - val_accuracy: 0.6801\n",
      "Epoch 5/25\n",
      "113/113 [==============================] - 0s 1ms/step - loss: 0.3234 - accuracy: 0.8815 - val_loss: 0.8376 - val_accuracy: 0.6859\n",
      "Epoch 6/25\n",
      "113/113 [==============================] - 0s 1ms/step - loss: 0.2585 - accuracy: 0.9078 - val_loss: 0.9213 - val_accuracy: 0.6686\n",
      "Epoch 7/25\n",
      "113/113 [==============================] - 0s 1ms/step - loss: 0.2149 - accuracy: 0.9303 - val_loss: 0.9781 - val_accuracy: 0.6772\n",
      "Epoch 8/25\n",
      "113/113 [==============================] - 0s 1ms/step - loss: 0.1752 - accuracy: 0.9469 - val_loss: 1.0495 - val_accuracy: 0.6657\n",
      "Epoch 9/25\n",
      "113/113 [==============================] - 0s 1ms/step - loss: 0.1542 - accuracy: 0.9521 - val_loss: 1.1034 - val_accuracy: 0.6744\n",
      "Epoch 10/25\n",
      "113/113 [==============================] - 0s 1ms/step - loss: 0.1331 - accuracy: 0.9601 - val_loss: 1.1380 - val_accuracy: 0.6772\n",
      "Epoch 11/25\n",
      "113/113 [==============================] - 0s 1ms/step - loss: 0.1188 - accuracy: 0.9646 - val_loss: 1.2474 - val_accuracy: 0.6657\n",
      "Epoch 12/25\n",
      "113/113 [==============================] - 0s 1ms/step - loss: 0.1098 - accuracy: 0.9673 - val_loss: 1.2625 - val_accuracy: 0.6628\n",
      "Epoch 13/25\n",
      "113/113 [==============================] - 0s 1ms/step - loss: 0.0978 - accuracy: 0.9715 - val_loss: 1.3278 - val_accuracy: 0.6628\n",
      "Epoch 14/25\n",
      "113/113 [==============================] - 0s 1ms/step - loss: 0.0889 - accuracy: 0.9723 - val_loss: 1.3555 - val_accuracy: 0.6657\n",
      "Epoch 15/25\n",
      "113/113 [==============================] - 0s 1ms/step - loss: 0.0871 - accuracy: 0.9737 - val_loss: 1.3758 - val_accuracy: 0.6686\n",
      "Epoch 16/25\n",
      "113/113 [==============================] - ETA: 0s - loss: 0.0727 - accuracy: 0.97 - 0s 1ms/step - loss: 0.0796 - accuracy: 0.9751 - val_loss: 1.4447 - val_accuracy: 0.6628\n",
      "Epoch 17/25\n",
      "113/113 [==============================] - 0s 1ms/step - loss: 0.0747 - accuracy: 0.9754 - val_loss: 1.5000 - val_accuracy: 0.6628\n",
      "Epoch 18/25\n",
      "113/113 [==============================] - 0s 1ms/step - loss: 0.0714 - accuracy: 0.9745 - val_loss: 1.5087 - val_accuracy: 0.6801\n",
      "Epoch 19/25\n",
      "113/113 [==============================] - 0s 1ms/step - loss: 0.0729 - accuracy: 0.9751 - val_loss: 1.5236 - val_accuracy: 0.6830\n",
      "Epoch 20/25\n",
      "113/113 [==============================] - 0s 1ms/step - loss: 0.0691 - accuracy: 0.9762 - val_loss: 1.5585 - val_accuracy: 0.6686\n",
      "Epoch 21/25\n",
      "113/113 [==============================] - 0s 1ms/step - loss: 0.0663 - accuracy: 0.9779 - val_loss: 1.5857 - val_accuracy: 0.6715\n",
      "Epoch 22/25\n",
      "113/113 [==============================] - 0s 1ms/step - loss: 0.0694 - accuracy: 0.9784 - val_loss: 1.6241 - val_accuracy: 0.6628\n",
      "Epoch 23/25\n",
      "113/113 [==============================] - 0s 1ms/step - loss: 0.0656 - accuracy: 0.9779 - val_loss: 1.6050 - val_accuracy: 0.6744\n",
      "Epoch 24/25\n",
      "113/113 [==============================] - 0s 1ms/step - loss: 0.0623 - accuracy: 0.9790 - val_loss: 1.6355 - val_accuracy: 0.6801\n",
      "Epoch 25/25\n",
      "113/113 [==============================] - 0s 1ms/step - loss: 0.0612 - accuracy: 0.9770 - val_loss: 1.6681 - val_accuracy: 0.6686\n",
      "training finish\n"
     ]
    }
   ],
   "source": [
    "from keras.callbacks import CSVLogger\n",
    "\n",
    "csv_logger = CSVLogger('logs/training_log.csv')\n",
    "\n",
    "# training setting\n",
    "epochs = 25\n",
    "batch_size = 32\n",
    "\n",
    "# training!\n",
    "history = model.fit(X_train, y_train, \n",
    "                    epochs=epochs, \n",
    "                    batch_size=batch_size, \n",
    "                    callbacks=[csv_logger],\n",
    "                    validation_data = (X_test, y_test))\n",
    "print('training finish')"
   ]
  },
  {
   "cell_type": "markdown",
   "metadata": {},
   "source": [
    "### 6.5 Predict on testing data"
   ]
  },
  {
   "cell_type": "code",
   "execution_count": 56,
   "metadata": {
    "scrolled": true
   },
   "outputs": [
    {
     "data": {
      "text/plain": [
       "array([[1.00879435e-04, 9.45716441e-01, 1.90051229e-04, 5.39926291e-02],\n",
       "       [2.89667561e-03, 9.83369410e-01, 7.46405078e-03, 6.26990013e-03],\n",
       "       [1.44932303e-04, 1.15696428e-04, 1.47106826e-01, 8.52632523e-01],\n",
       "       [9.99927521e-01, 7.20782118e-05, 3.35953096e-08, 3.39986968e-07],\n",
       "       [4.90373895e-02, 9.23724055e-01, 1.32148678e-03, 2.59170700e-02]],\n",
       "      dtype=float32)"
      ]
     },
     "execution_count": 56,
     "metadata": {},
     "output_type": "execute_result"
    }
   ],
   "source": [
    "## predict\n",
    "pred_result = model.predict(X_test, batch_size=128)\n",
    "pred_result[:5]"
   ]
  },
  {
   "cell_type": "code",
   "execution_count": 57,
   "metadata": {
    "scrolled": true
   },
   "outputs": [
    {
     "data": {
      "text/plain": [
       "array(['fear', 'fear', 'sadness', 'anger', 'fear'], dtype=object)"
      ]
     },
     "execution_count": 57,
     "metadata": {},
     "output_type": "execute_result"
    }
   ],
   "source": [
    "pred_result = label_decode(label_encoder, pred_result)\n",
    "pred_result[:5]"
   ]
  },
  {
   "cell_type": "code",
   "execution_count": 58,
   "metadata": {
    "scrolled": true
   },
   "outputs": [
    {
     "name": "stdout",
     "output_type": "stream",
     "text": [
      "testing accuracy: 0.67\n"
     ]
    }
   ],
   "source": [
    "from sklearn.metrics import accuracy_score\n",
    "\n",
    "print('testing accuracy: {}'.format(round(accuracy_score(label_decode(label_encoder, y_test), pred_result), 2)))"
   ]
  },
  {
   "cell_type": "code",
   "execution_count": 59,
   "metadata": {
    "scrolled": true
   },
   "outputs": [
    {
     "data": {
      "text/html": [
       "<div>\n",
       "<style scoped>\n",
       "    .dataframe tbody tr th:only-of-type {\n",
       "        vertical-align: middle;\n",
       "    }\n",
       "\n",
       "    .dataframe tbody tr th {\n",
       "        vertical-align: top;\n",
       "    }\n",
       "\n",
       "    .dataframe thead th {\n",
       "        text-align: right;\n",
       "    }\n",
       "</style>\n",
       "<table border=\"1\" class=\"dataframe\">\n",
       "  <thead>\n",
       "    <tr style=\"text-align: right;\">\n",
       "      <th></th>\n",
       "      <th>epoch</th>\n",
       "      <th>accuracy</th>\n",
       "      <th>loss</th>\n",
       "      <th>val_accuracy</th>\n",
       "      <th>val_loss</th>\n",
       "    </tr>\n",
       "  </thead>\n",
       "  <tbody>\n",
       "    <tr>\n",
       "      <th>0</th>\n",
       "      <td>0</td>\n",
       "      <td>0.347910</td>\n",
       "      <td>1.339550</td>\n",
       "      <td>0.417867</td>\n",
       "      <td>1.303351</td>\n",
       "    </tr>\n",
       "    <tr>\n",
       "      <th>1</th>\n",
       "      <td>1</td>\n",
       "      <td>0.636037</td>\n",
       "      <td>1.009841</td>\n",
       "      <td>0.642651</td>\n",
       "      <td>0.940300</td>\n",
       "    </tr>\n",
       "    <tr>\n",
       "      <th>2</th>\n",
       "      <td>2</td>\n",
       "      <td>0.794354</td>\n",
       "      <td>0.578408</td>\n",
       "      <td>0.691643</td>\n",
       "      <td>0.803777</td>\n",
       "    </tr>\n",
       "    <tr>\n",
       "      <th>3</th>\n",
       "      <td>3</td>\n",
       "      <td>0.844451</td>\n",
       "      <td>0.411067</td>\n",
       "      <td>0.680115</td>\n",
       "      <td>0.822359</td>\n",
       "    </tr>\n",
       "    <tr>\n",
       "      <th>4</th>\n",
       "      <td>4</td>\n",
       "      <td>0.881539</td>\n",
       "      <td>0.323444</td>\n",
       "      <td>0.685879</td>\n",
       "      <td>0.837607</td>\n",
       "    </tr>\n",
       "    <tr>\n",
       "      <th>5</th>\n",
       "      <td>5</td>\n",
       "      <td>0.907833</td>\n",
       "      <td>0.258544</td>\n",
       "      <td>0.668588</td>\n",
       "      <td>0.921298</td>\n",
       "    </tr>\n",
       "    <tr>\n",
       "      <th>6</th>\n",
       "      <td>6</td>\n",
       "      <td>0.930252</td>\n",
       "      <td>0.214912</td>\n",
       "      <td>0.677233</td>\n",
       "      <td>0.978068</td>\n",
       "    </tr>\n",
       "    <tr>\n",
       "      <th>7</th>\n",
       "      <td>7</td>\n",
       "      <td>0.946859</td>\n",
       "      <td>0.175232</td>\n",
       "      <td>0.665706</td>\n",
       "      <td>1.049506</td>\n",
       "    </tr>\n",
       "    <tr>\n",
       "      <th>8</th>\n",
       "      <td>8</td>\n",
       "      <td>0.952117</td>\n",
       "      <td>0.154182</td>\n",
       "      <td>0.674352</td>\n",
       "      <td>1.103372</td>\n",
       "    </tr>\n",
       "    <tr>\n",
       "      <th>9</th>\n",
       "      <td>9</td>\n",
       "      <td>0.960144</td>\n",
       "      <td>0.133135</td>\n",
       "      <td>0.677233</td>\n",
       "      <td>1.138027</td>\n",
       "    </tr>\n",
       "    <tr>\n",
       "      <th>10</th>\n",
       "      <td>10</td>\n",
       "      <td>0.964572</td>\n",
       "      <td>0.118772</td>\n",
       "      <td>0.665706</td>\n",
       "      <td>1.247402</td>\n",
       "    </tr>\n",
       "    <tr>\n",
       "      <th>11</th>\n",
       "      <td>11</td>\n",
       "      <td>0.967340</td>\n",
       "      <td>0.109795</td>\n",
       "      <td>0.662824</td>\n",
       "      <td>1.262490</td>\n",
       "    </tr>\n",
       "    <tr>\n",
       "      <th>12</th>\n",
       "      <td>12</td>\n",
       "      <td>0.971492</td>\n",
       "      <td>0.097759</td>\n",
       "      <td>0.662824</td>\n",
       "      <td>1.327787</td>\n",
       "    </tr>\n",
       "    <tr>\n",
       "      <th>13</th>\n",
       "      <td>13</td>\n",
       "      <td>0.972322</td>\n",
       "      <td>0.088881</td>\n",
       "      <td>0.665706</td>\n",
       "      <td>1.355458</td>\n",
       "    </tr>\n",
       "    <tr>\n",
       "      <th>14</th>\n",
       "      <td>14</td>\n",
       "      <td>0.973706</td>\n",
       "      <td>0.087104</td>\n",
       "      <td>0.668588</td>\n",
       "      <td>1.375754</td>\n",
       "    </tr>\n",
       "    <tr>\n",
       "      <th>15</th>\n",
       "      <td>15</td>\n",
       "      <td>0.975090</td>\n",
       "      <td>0.079602</td>\n",
       "      <td>0.662824</td>\n",
       "      <td>1.444711</td>\n",
       "    </tr>\n",
       "    <tr>\n",
       "      <th>16</th>\n",
       "      <td>16</td>\n",
       "      <td>0.975367</td>\n",
       "      <td>0.074719</td>\n",
       "      <td>0.662824</td>\n",
       "      <td>1.500021</td>\n",
       "    </tr>\n",
       "    <tr>\n",
       "      <th>17</th>\n",
       "      <td>17</td>\n",
       "      <td>0.974536</td>\n",
       "      <td>0.071434</td>\n",
       "      <td>0.680115</td>\n",
       "      <td>1.508737</td>\n",
       "    </tr>\n",
       "    <tr>\n",
       "      <th>18</th>\n",
       "      <td>18</td>\n",
       "      <td>0.975090</td>\n",
       "      <td>0.072884</td>\n",
       "      <td>0.682997</td>\n",
       "      <td>1.523576</td>\n",
       "    </tr>\n",
       "    <tr>\n",
       "      <th>19</th>\n",
       "      <td>19</td>\n",
       "      <td>0.976197</td>\n",
       "      <td>0.069087</td>\n",
       "      <td>0.668588</td>\n",
       "      <td>1.558531</td>\n",
       "    </tr>\n",
       "    <tr>\n",
       "      <th>20</th>\n",
       "      <td>20</td>\n",
       "      <td>0.977858</td>\n",
       "      <td>0.066342</td>\n",
       "      <td>0.671470</td>\n",
       "      <td>1.585680</td>\n",
       "    </tr>\n",
       "    <tr>\n",
       "      <th>21</th>\n",
       "      <td>21</td>\n",
       "      <td>0.978411</td>\n",
       "      <td>0.069373</td>\n",
       "      <td>0.662824</td>\n",
       "      <td>1.624148</td>\n",
       "    </tr>\n",
       "    <tr>\n",
       "      <th>22</th>\n",
       "      <td>22</td>\n",
       "      <td>0.977858</td>\n",
       "      <td>0.065640</td>\n",
       "      <td>0.674352</td>\n",
       "      <td>1.604957</td>\n",
       "    </tr>\n",
       "    <tr>\n",
       "      <th>23</th>\n",
       "      <td>23</td>\n",
       "      <td>0.978965</td>\n",
       "      <td>0.062340</td>\n",
       "      <td>0.680115</td>\n",
       "      <td>1.635511</td>\n",
       "    </tr>\n",
       "    <tr>\n",
       "      <th>24</th>\n",
       "      <td>24</td>\n",
       "      <td>0.977027</td>\n",
       "      <td>0.061231</td>\n",
       "      <td>0.668588</td>\n",
       "      <td>1.668139</td>\n",
       "    </tr>\n",
       "  </tbody>\n",
       "</table>\n",
       "</div>"
      ],
      "text/plain": [
       "    epoch  accuracy      loss  val_accuracy  val_loss\n",
       "0       0  0.347910  1.339550      0.417867  1.303351\n",
       "1       1  0.636037  1.009841      0.642651  0.940300\n",
       "2       2  0.794354  0.578408      0.691643  0.803777\n",
       "3       3  0.844451  0.411067      0.680115  0.822359\n",
       "4       4  0.881539  0.323444      0.685879  0.837607\n",
       "5       5  0.907833  0.258544      0.668588  0.921298\n",
       "6       6  0.930252  0.214912      0.677233  0.978068\n",
       "7       7  0.946859  0.175232      0.665706  1.049506\n",
       "8       8  0.952117  0.154182      0.674352  1.103372\n",
       "9       9  0.960144  0.133135      0.677233  1.138027\n",
       "10     10  0.964572  0.118772      0.665706  1.247402\n",
       "11     11  0.967340  0.109795      0.662824  1.262490\n",
       "12     12  0.971492  0.097759      0.662824  1.327787\n",
       "13     13  0.972322  0.088881      0.665706  1.355458\n",
       "14     14  0.973706  0.087104      0.668588  1.375754\n",
       "15     15  0.975090  0.079602      0.662824  1.444711\n",
       "16     16  0.975367  0.074719      0.662824  1.500021\n",
       "17     17  0.974536  0.071434      0.680115  1.508737\n",
       "18     18  0.975090  0.072884      0.682997  1.523576\n",
       "19     19  0.976197  0.069087      0.668588  1.558531\n",
       "20     20  0.977858  0.066342      0.671470  1.585680\n",
       "21     21  0.978411  0.069373      0.662824  1.624148\n",
       "22     22  0.977858  0.065640      0.674352  1.604957\n",
       "23     23  0.978965  0.062340      0.680115  1.635511\n",
       "24     24  0.977027  0.061231      0.668588  1.668139"
      ]
     },
     "execution_count": 59,
     "metadata": {},
     "output_type": "execute_result"
    }
   ],
   "source": [
    "#Let's take a look at the training log\n",
    "training_log = pd.DataFrame()\n",
    "training_log = pd.read_csv(\"logs/training_log.csv\")\n",
    "training_log"
   ]
  },
  {
   "cell_type": "markdown",
   "metadata": {},
   "source": [
    "---\n",
    "### ** >>> Exercise 6 (Take home): **  \n",
    "\n",
    "Plot the Training and Validation Accuracy and Loss (different plots), just like the images below (Note: the pictures below are an example from a different model). How to interpret the graphs you got? How are they related to the concept of overfitting/underfitting covered in class?\n",
    "<table><tr>\n",
    "    <td><img src=\"pics/pic3.png\" style=\"width: 300px;\"/> </td>\n",
    "    <td><img src=\"pics/pic4.png\" style=\"width: 300px;\"/> </td>\n",
    "</tr></table>"
   ]
  },
  {
   "cell_type": "code",
   "execution_count": 60,
   "metadata": {
    "scrolled": true
   },
   "outputs": [
    {
     "data": {
      "image/png": "[encoded data removed]",
      "text/plain": [
       "<Figure size 432x288 with 2 Axes>"
      ]
     },
     "metadata": {
      "needs_background": "light"
     },
     "output_type": "display_data"
    }
   ],
   "source": [
    "# Answer here\n",
    "# https://stackoverflow.com/questions/42818361/how-to-make-two-plots-side-by-side-using-python/42818547\n",
    "# https://vimsky.com/zh-tw/examples/usage/matplotlib-pyplot-legend-in-python.html\n",
    "\n",
    "import matplotlib.pyplot as plt\n",
    "%matplotlib inline\n",
    "\n",
    "#plt.figure(figsize=(8,3))\n",
    "plt.subplot(1,2,1)\n",
    "plt.legend([\"accuracy\", \"val_accuracy\"], loc='lower right')\n",
    "plt.title(\"Training Accuracy per epoch\") # title\n",
    "plt.ylabel(\"Accurary\") # y label\n",
    "plt.xlabel(\"Epochs\") # x label\n",
    "plt.plot(training_log.epoch,training_log.accuracy, color=(255/255,100/255,100/255),label = \"accuracy\") #red \n",
    "plt.plot(training_log.epoch,training_log.val_accuracy, color=(100/255,100/255,255/255), label = \"val_accuracy\") #blue\n",
    "plt.legend()\n",
    "plt.subplot(1,2,2)\n",
    "\n",
    "plt.title(\"Training Loss per epoch\") # title\n",
    "plt.ylabel(\"Accurary\") # y label\n",
    "plt.xlabel(\"Epochs\") # x label\n",
    "\n",
    "plt.plot(training_log.epoch,training_log.loss, color=(255/255,100/255,100/255), label = \"loss\") #red\n",
    "plt.plot(training_log.epoch,training_log.val_loss, color=(100/255,100/255,255/255), label = \"val_loss\") #blue\n",
    "plt.legend()\n",
    "\n",
    "# https://www.delftstack.com/zh-tw/howto/matplotlib/how-to-improve-subplot-size-or-spacing-with-many-subplots-in-matplotlib/#plt.subplots_adjust-%25E6%2596%25B9%25E6%25B3%2595%25E6%259B%25B4%25E6%2594%25B9-matplotlib-%25E5%25AD%2590%25E5%259C%2596%25E9%2596%2593%25E8%25B7%259D\n",
    "plt.subplots_adjust(wspace=0.5)\n",
    "plt.show()\n",
    "\n",
    "# interpret \n",
    "# reference\n",
    "# https://www.cxymm.net/searchArticle?qc=val%20loss%E5%85%88%E4%B8%8B%E9%99%8D%E5%90%8E%E4%B8%8A%E5%8D%87&page=1\n",
    "\n",
    "# Let's see the picture of training accuracy per epoch.\n",
    "# As figure shows, the accuracy is higer and higher with the epochs going.\n",
    "# The accuracy is even close to 1.\n",
    "# However, the validation accuracy peaks at the 2nd or 3rd epoch and slightly decreses.\n",
    "\n",
    "# Let's see the other picture of training loss per epoch.\n",
    "# the training loss keep decresing and close to 0.1.\n",
    "# However, the validation loss decreases before around the 3th epoch and increases after the 4th epoch.\n",
    "\n",
    "# overfitting: perform well in training dataset but poorly in validation dataset.\n",
    "# underfitting: perform poorly in both training dataset and validation dataset.\n",
    "\n",
    "# Therefore, we can learn that this is \"overfitting\" because the plot matches the overfitting situation. "
   ]
  },
  {
   "cell_type": "markdown",
   "metadata": {},
   "source": [
    "---"
   ]
  },
  {
   "cell_type": "markdown",
   "metadata": {},
   "source": [
    "### Note\n",
    "\n",
    "If you don't have a GPU (level is higher than GTX 1060) or you are not good at setting lots of things about computer, we recommend you to use the [kaggle kernel](https://www.kaggle.com/kernels) to do deep learning model training. They have already installed all the librarys and provided free GPU for you to use.\n",
    "\n",
    "Note however that you will only be able to run a kernel for 6 hours. After 6 hours of inactivity, your Kaggle kernel will shut down (meaning if your model takes more than 6 hours to train, you can't train it at once).\n",
    "\n",
    "\n",
    "### More Information for your reference\n",
    "\n",
    "* Keras document: https://keras.io/\n",
    "* Keras GitHub example: https://github.com/keras-team/keras/tree/master/examples\n",
    "* CS229: Machine Learning: http://cs229.stanford.edu/syllabus.html\n",
    "* Deep Learning cheatsheet: https://stanford.edu/~shervine/teaching/cs-229/cheatsheet-deep-learning\n",
    "* If you want to try TensorFlow or PyTorch: https://pytorch.org/tutorials/\n",
    "https://www.tensorflow.org/tutorials/quickstart/beginner"
   ]
  },
  {
   "cell_type": "markdown",
   "metadata": {},
   "source": [
    "---\n",
    "## 7. Word2Vector\n",
    "\n",
    "We will introduce how to use `gensim` to train your word2vec model and how to load a pre-trained model.\n",
    "\n",
    "https://radimrehurek.com/gensim/index.html"
   ]
  },
  {
   "cell_type": "markdown",
   "metadata": {},
   "source": [
    "### 7.1 Prepare training corpus/訓練語料庫"
   ]
  },
  {
   "cell_type": "code",
   "execution_count": 61,
   "metadata": {
    "scrolled": true
   },
   "outputs": [
    {
     "data": {
      "text/html": [
       "<div>\n",
       "<style scoped>\n",
       "    .dataframe tbody tr th:only-of-type {\n",
       "        vertical-align: middle;\n",
       "    }\n",
       "\n",
       "    .dataframe tbody tr th {\n",
       "        vertical-align: top;\n",
       "    }\n",
       "\n",
       "    .dataframe thead th {\n",
       "        text-align: right;\n",
       "    }\n",
       "</style>\n",
       "<table border=\"1\" class=\"dataframe\">\n",
       "  <thead>\n",
       "    <tr style=\"text-align: right;\">\n",
       "      <th></th>\n",
       "      <th>id</th>\n",
       "      <th>text</th>\n",
       "      <th>text_tokenized</th>\n",
       "    </tr>\n",
       "  </thead>\n",
       "  <tbody>\n",
       "    <tr>\n",
       "      <th>1007</th>\n",
       "      <td>20150</td>\n",
       "      <td>After #terror our leaders say, 'Don't jump to ...</td>\n",
       "      <td>[After, #, terror, our, leaders, say, ,, 'Do, ...</td>\n",
       "    </tr>\n",
       "    <tr>\n",
       "      <th>3526</th>\n",
       "      <td>40699</td>\n",
       "      <td>Amateurs sit and wait for inspiration, the res...</td>\n",
       "      <td>[Amateurs, sit, and, wait, for, inspiration, ,...</td>\n",
       "    </tr>\n",
       "    <tr>\n",
       "      <th>2246</th>\n",
       "      <td>30242</td>\n",
       "      <td>Go follow #beautiful #Snowgang ♥@Amynicolehill...</td>\n",
       "      <td>[Go, follow, #, beautiful, #, Snowgang, ♥, @, ...</td>\n",
       "    </tr>\n",
       "    <tr>\n",
       "      <th>3371</th>\n",
       "      <td>40544</td>\n",
       "      <td>Damn gud #premiere #LethalWeapon...#funny and ...</td>\n",
       "      <td>[Damn, gud, #, premiere, #, LethalWeapon, ...,...</td>\n",
       "    </tr>\n",
       "    <tr>\n",
       "      <th>2598</th>\n",
       "      <td>30594</td>\n",
       "      <td>@CohenDS Yell, 'Bye, garbage!' cheerfully afte...</td>\n",
       "      <td>[@, CohenDS, Yell, ,, 'Bye, ,, garbage, !, ', ...</td>\n",
       "    </tr>\n",
       "  </tbody>\n",
       "</table>\n",
       "</div>"
      ],
      "text/plain": [
       "         id                                               text  \\\n",
       "1007  20150  After #terror our leaders say, 'Don't jump to ...   \n",
       "3526  40699  Amateurs sit and wait for inspiration, the res...   \n",
       "2246  30242  Go follow #beautiful #Snowgang ♥@Amynicolehill...   \n",
       "3371  40544  Damn gud #premiere #LethalWeapon...#funny and ...   \n",
       "2598  30594  @CohenDS Yell, 'Bye, garbage!' cheerfully afte...   \n",
       "\n",
       "                                         text_tokenized  \n",
       "1007  [After, #, terror, our, leaders, say, ,, 'Do, ...  \n",
       "3526  [Amateurs, sit, and, wait, for, inspiration, ,...  \n",
       "2246  [Go, follow, #, beautiful, #, Snowgang, ♥, @, ...  \n",
       "3371  [Damn, gud, #, premiere, #, LethalWeapon, ...,...  \n",
       "2598  [@, CohenDS, Yell, ,, 'Bye, ,, garbage, !, ', ...  "
      ]
     },
     "execution_count": 61,
     "metadata": {},
     "output_type": "execute_result"
    }
   ],
   "source": [
    "## check library\n",
    "import gensim\n",
    "\n",
    "## ignore warnings\n",
    "import warnings\n",
    "warnings.filterwarnings('ignore')\n",
    "\n",
    "# # if you want to see the training messages, you can use it\n",
    "# import logging\n",
    "# logging.basicConfig(format='%(asctime)s : %(levelname)s : %(message)s', level=logging.INFO)\n",
    "\n",
    "## the input type\n",
    "train_df['text_tokenized'] = train_df['text'].apply(lambda x: nltk.word_tokenize(x))\n",
    "train_df[['id', 'text', 'text_tokenized']].head()"
   ]
  },
  {
   "cell_type": "code",
   "execution_count": 62,
   "metadata": {
    "scrolled": true
   },
   "outputs": [
    {
     "data": {
      "text/plain": [
       "array([list(['After', '#', 'terror', 'our', 'leaders', 'say', ',', \"'Do\", \"n't\", 'jump', 'to', 'conclusions', ',', \"'\", 'but', '[', 'in', 'matters', 'of', '#', 'racial', 'unrest', ']', ',', 'they', 'are', 'silent', '.', 'Why', 'is', 'that', '?', '@', 'greggutfeld']),\n",
       "       list(['Amateurs', 'sit', 'and', 'wait', 'for', 'inspiration', ',', 'the', 'rest', 'of', 'us', 'just', 'get', 'up', 'and', 'go', 'to', 'work', '.', \"'\", '--', 'Stephen', 'King', '#', 'authors', '#', 'serious', '#', 'writingtip']),\n",
       "       list(['Go', 'follow', '#', 'beautiful', '#', 'Snowgang', '♥', '@', 'Amynicolehill12', '♥', '#', 'Princess', '#', 'fitness', '#', 'bodyposi', '#', 'haircut', '#', 'smile', '#', 'Whitegirlwednesday'])],\n",
       "      dtype=object)"
      ]
     },
     "execution_count": 62,
     "metadata": {},
     "output_type": "execute_result"
    }
   ],
   "source": [
    "## create the training corpus\n",
    "training_corpus = train_df['text_tokenized'].values\n",
    "training_corpus[:3]"
   ]
  },
  {
   "cell_type": "markdown",
   "metadata": {},
   "source": [
    "### 7.2 Training our model\n",
    "\n",
    "You can try to train your own model. More details: https://radimrehurek.com/gensim/models/word2vec.html"
   ]
  },
  {
   "cell_type": "code",
   "execution_count": 63,
   "metadata": {
    "scrolled": true
   },
   "outputs": [
    {
     "data": {
      "text/html": [
       "<div>\n",
       "<style scoped>\n",
       "    .dataframe tbody tr th:only-of-type {\n",
       "        vertical-align: middle;\n",
       "    }\n",
       "\n",
       "    .dataframe tbody tr th {\n",
       "        vertical-align: top;\n",
       "    }\n",
       "\n",
       "    .dataframe thead th {\n",
       "        text-align: right;\n",
       "    }\n",
       "</style>\n",
       "<table border=\"1\" class=\"dataframe\">\n",
       "  <thead>\n",
       "    <tr style=\"text-align: right;\">\n",
       "      <th></th>\n",
       "      <th>id</th>\n",
       "      <th>text</th>\n",
       "      <th>text_tokenized</th>\n",
       "    </tr>\n",
       "  </thead>\n",
       "  <tbody>\n",
       "    <tr>\n",
       "      <th>1007</th>\n",
       "      <td>20150</td>\n",
       "      <td>After #terror our leaders say, 'Don't jump to ...</td>\n",
       "      <td>[After, #, terror, our, leaders, say, ,, 'Do, ...</td>\n",
       "    </tr>\n",
       "    <tr>\n",
       "      <th>3526</th>\n",
       "      <td>40699</td>\n",
       "      <td>Amateurs sit and wait for inspiration, the res...</td>\n",
       "      <td>[Amateurs, sit, and, wait, for, inspiration, ,...</td>\n",
       "    </tr>\n",
       "    <tr>\n",
       "      <th>2246</th>\n",
       "      <td>30242</td>\n",
       "      <td>Go follow #beautiful #Snowgang ♥@Amynicolehill...</td>\n",
       "      <td>[Go, follow, #, beautiful, #, Snowgang, ♥, @, ...</td>\n",
       "    </tr>\n",
       "    <tr>\n",
       "      <th>3371</th>\n",
       "      <td>40544</td>\n",
       "      <td>Damn gud #premiere #LethalWeapon...#funny and ...</td>\n",
       "      <td>[Damn, gud, #, premiere, #, LethalWeapon, ...,...</td>\n",
       "    </tr>\n",
       "    <tr>\n",
       "      <th>2598</th>\n",
       "      <td>30594</td>\n",
       "      <td>@CohenDS Yell, 'Bye, garbage!' cheerfully afte...</td>\n",
       "      <td>[@, CohenDS, Yell, ,, 'Bye, ,, garbage, !, ', ...</td>\n",
       "    </tr>\n",
       "  </tbody>\n",
       "</table>\n",
       "</div>"
      ],
      "text/plain": [
       "         id                                               text  \\\n",
       "1007  20150  After #terror our leaders say, 'Don't jump to ...   \n",
       "3526  40699  Amateurs sit and wait for inspiration, the res...   \n",
       "2246  30242  Go follow #beautiful #Snowgang ♥@Amynicolehill...   \n",
       "3371  40544  Damn gud #premiere #LethalWeapon...#funny and ...   \n",
       "2598  30594  @CohenDS Yell, 'Bye, garbage!' cheerfully afte...   \n",
       "\n",
       "                                         text_tokenized  \n",
       "1007  [After, #, terror, our, leaders, say, ,, 'Do, ...  \n",
       "3526  [Amateurs, sit, and, wait, for, inspiration, ,...  \n",
       "2246  [Go, follow, #, beautiful, #, Snowgang, ♥, @, ...  \n",
       "3371  [Damn, gud, #, premiere, #, LethalWeapon, ...,...  \n",
       "2598  [@, CohenDS, Yell, ,, 'Bye, ,, garbage, !, ', ...  "
      ]
     },
     "execution_count": 63,
     "metadata": {},
     "output_type": "execute_result"
    }
   ],
   "source": [
    "## the input type\n",
    "train_df['text_tokenized'] = train_df['text'].apply(lambda x: nltk.word_tokenize(x))\n",
    "train_df[['id', 'text', 'text_tokenized']].head()"
   ]
  },
  {
   "cell_type": "code",
   "execution_count": 64,
   "metadata": {
    "scrolled": false
   },
   "outputs": [],
   "source": [
    "from gensim.models import Word2Vec\n",
    "\n",
    "## setting\n",
    "vector_dim = 100\n",
    "window_size = 5\n",
    "min_count = 1\n",
    "training_iter = 20\n",
    "\n",
    "# https://blog.csdn.net/lcy6239/article/details/115786432\n",
    "# size-> vector_size\n",
    "# iter-> epochs\n",
    "## model\n",
    "word2vec_model = Word2Vec(sentences=training_corpus, \n",
    "                          vector_size=vector_dim, window=window_size, \n",
    "                          min_count=min_count, epochs=training_iter)"
   ]
  },
  {
   "cell_type": "markdown",
   "metadata": {},
   "source": [
    "![Imgur](https://i.imgur.com/Fca3MCs.png)"
   ]
  },
  {
   "cell_type": "markdown",
   "metadata": {},
   "source": [
    "### 7.3 Generating word vector (embeddings)"
   ]
  },
  {
   "cell_type": "code",
   "execution_count": 65,
   "metadata": {
    "scrolled": true
   },
   "outputs": [
    {
     "data": {
      "text/plain": [
       "array([ 0.15470672,  0.3247248 , -0.1112086 ,  0.26129472, -0.04091675,\n",
       "       -0.8712643 ,  0.64043844,  1.1896272 , -0.6555736 , -0.5563149 ,\n",
       "       -0.62404007, -0.48337126, -0.5840538 , -0.16646641,  0.11123043,\n",
       "       -0.5955115 ,  0.28460953, -0.59554   ,  0.30340037, -1.2723908 ,\n",
       "        0.26017582,  0.53945434,  0.62527037,  0.06415605,  0.28312388,\n",
       "        0.03192535, -0.7166872 ,  0.6219056 , -0.50248164,  0.27065355,\n",
       "        0.58881694, -0.19948685,  0.29828092, -0.6914518 , -0.6201879 ,\n",
       "        0.20028748,  0.4596434 , -0.11183695, -0.57500637, -0.83416724,\n",
       "        0.4044667 ,  0.15686235, -0.4219569 ,  0.5217356 ,  0.5401151 ,\n",
       "       -0.19052704, -0.61289966, -0.39889374,  0.5634235 ,  0.31341812,\n",
       "       -0.23576787, -0.31477433,  0.47250098,  0.07016538, -0.35807207,\n",
       "       -0.5089254 ,  0.10588123, -0.41216815, -0.5702545 , -0.04556134,\n",
       "       -0.14418212, -0.13323197,  0.3506004 , -0.01894595, -0.5256085 ,\n",
       "        0.35228926,  0.40225333,  0.31777495, -1.6225976 ,  0.47057253,\n",
       "       -0.12149852,  0.66358256,  0.82274467, -0.31105202,  0.27349827,\n",
       "       -0.07097667,  0.43000272,  0.158525  ,  0.01430681, -0.3247311 ,\n",
       "       -0.8306075 , -0.6039171 , -0.56916714,  1.1398592 ,  0.2690608 ,\n",
       "       -0.4414514 ,  0.7536126 ,  0.6784642 , -0.05630495,  0.54704577,\n",
       "        1.1053172 ,  0.27252328,  0.49400762,  0.01182044,  0.9598914 ,\n",
       "       -0.05709045,  0.19508927,  0.10581207,  0.6149809 ,  0.30886447],\n",
       "      dtype=float32)"
      ]
     },
     "execution_count": 65,
     "metadata": {},
     "output_type": "execute_result"
    }
   ],
   "source": [
    "# get the corresponding vector of a word\n",
    "word_vec = word2vec_model.wv['happy']\n",
    "word_vec"
   ]
  },
  {
   "cell_type": "code",
   "execution_count": 66,
   "metadata": {
    "scrolled": true
   },
   "outputs": [
    {
     "data": {
      "text/plain": [
       "[('Be', 0.9371412396430969),\n",
       " ('bday', 0.9189438223838806),\n",
       " ('birthday', 0.9185341596603394),\n",
       " (\"'be\", 0.9177688360214233),\n",
       " ('down\\\\nI', 0.9174953103065491),\n",
       " ('establishment', 0.9171268343925476),\n",
       " ('free', 0.9124040603637695),\n",
       " ('farm365', 0.9062500596046448),\n",
       " ('O', 0.9055880904197693),\n",
       " ('blessed', 0.9022203683853149)]"
      ]
     },
     "execution_count": 66,
     "metadata": {},
     "output_type": "execute_result"
    }
   ],
   "source": [
    "# Get the most similar words\n",
    "# https://github.com/RaRe-Technologies/gensim/issues/3028\n",
    "word = 'happy'\n",
    "topn = 10\n",
    "word2vec_model.wv.most_similar(word, topn=topn)"
   ]
  },
  {
   "cell_type": "markdown",
   "metadata": {},
   "source": [
    "### 7.4 Using a pre-trained w2v model\n",
    "\n",
    "Instead of training your own model ,you can use a model that has already been trained. Here, we see 2 ways of doing that:\n",
    "\n",
    "\n",
    "#### (1) Download model by yourself\n",
    "\n",
    "source: [GoogleNews-vectors-negative300](https://code.google.com/archive/p/word2vec/)\n",
    "\n",
    "more details: https://radimrehurek.com/gensim/models/keyedvectors.html"
   ]
  },
  {
   "cell_type": "code",
   "execution_count": 67,
   "metadata": {
    "scrolled": true
   },
   "outputs": [
    {
     "name": "stdout",
     "output_type": "stream",
     "text": [
      "load ok\n"
     ]
    },
    {
     "data": {
      "text/plain": [
       "[('glad', 0.7408890724182129),\n",
       " ('pleased', 0.6632170677185059),\n",
       " ('ecstatic', 0.6626912355422974),\n",
       " ('overjoyed', 0.6599286794662476),\n",
       " ('thrilled', 0.6514049172401428),\n",
       " ('satisfied', 0.6437949538230896),\n",
       " ('proud', 0.636042058467865),\n",
       " ('delighted', 0.6272379159927368),\n",
       " ('disappointed', 0.6269949674606323),\n",
       " ('excited', 0.6247665882110596)]"
      ]
     },
     "execution_count": 67,
     "metadata": {},
     "output_type": "execute_result"
    }
   ],
   "source": [
    "from gensim.models import KeyedVectors\n",
    "\n",
    "## Note: this model is very huge, this will take some time ...\n",
    "model_path = \"C:/Users/Silvia/OneDrive - 清華大學/桌面/110 Fall/資料探勘/DM2021-Lab2-master-main/GoogleNews/GoogleNews-vectors-negative300.bin.gz\"\n",
    "w2v_google_model = KeyedVectors.load_word2vec_format(model_path, binary=True)\n",
    "print('load ok')\n",
    "\n",
    "w2v_google_model.most_similar('happy', topn=10)"
   ]
  },
  {
   "cell_type": "markdown",
   "metadata": {},
   "source": [
    "#### (2) Using gensim api\n",
    "\n",
    "Other pretrained models are available here: https://github.com/RaRe-Technologies/gensim-data"
   ]
  },
  {
   "cell_type": "code",
   "execution_count": 68,
   "metadata": {
    "scrolled": true
   },
   "outputs": [
    {
     "name": "stdout",
     "output_type": "stream",
     "text": [
      "load ok\n"
     ]
    },
    {
     "data": {
      "text/plain": [
       "[('birthday', 0.9577818512916565),\n",
       " ('thank', 0.937666654586792),\n",
       " ('welcome', 0.93361496925354),\n",
       " ('love', 0.917618453502655),\n",
       " ('miss', 0.9164499640464783),\n",
       " ('hello', 0.9158352017402649),\n",
       " ('thanks', 0.9150084853172302),\n",
       " ('merry', 0.9053248167037964),\n",
       " ('bless', 0.902732253074646),\n",
       " ('wish', 0.9013165235519409)]"
      ]
     },
     "execution_count": 68,
     "metadata": {},
     "output_type": "execute_result"
    }
   ],
   "source": [
    "import gensim.downloader as api\n",
    "\n",
    "## If you see `SSL: CERTIFICATE_VERIFY_FAILED` error, use this:\n",
    "import ssl\n",
    "import urllib.request\n",
    "ssl._create_default_https_context = ssl._create_unverified_context #python做爬蟲，對於有的網站需要驗證\n",
    "\n",
    "glove_twitter_25_model = api.load(\"glove-twitter-25\")\n",
    "print('load ok')\n",
    "\n",
    "glove_twitter_25_model.most_similar('happy', topn=10)"
   ]
  },
  {
   "cell_type": "markdown",
   "metadata": {},
   "source": [
    "### 7.5 king + woman - man = ?"
   ]
  },
  {
   "cell_type": "markdown",
   "metadata": {},
   "source": [
    "Let's run one of the most famous examples for Word2Vec and compute the similarity between these 3 words:"
   ]
  },
  {
   "cell_type": "code",
   "execution_count": 69,
   "metadata": {
    "scrolled": true
   },
   "outputs": [
    {
     "data": {
      "text/plain": [
       "[('queen', 0.7118193507194519),\n",
       " ('monarch', 0.6189674735069275),\n",
       " ('princess', 0.5902431011199951),\n",
       " ('crown_prince', 0.5499460697174072),\n",
       " ('prince', 0.5377321243286133),\n",
       " ('kings', 0.5236844420433044),\n",
       " ('Queen_Consort', 0.5235945582389832),\n",
       " ('queens', 0.518113374710083),\n",
       " ('sultan', 0.5098593831062317),\n",
       " ('monarchy', 0.5087411999702454)]"
      ]
     },
     "execution_count": 69,
     "metadata": {},
     "output_type": "execute_result"
    }
   ],
   "source": [
    "w2v_google_model.most_similar(positive=['king', 'woman'], negative=['man'])"
   ]
  },
  {
   "cell_type": "markdown",
   "metadata": {},
   "source": [
    "---\n",
    "### ** >>> Exercise 7 (Take home): **  \n",
    "\n",
    "Now, we have the word vectors, but our input data is a sequence of words (or say sentence). \n",
    "How can we utilize these \"word\" vectors to represent the sentence data and train our model?\n"
   ]
  },
  {
   "cell_type": "markdown",
   "metadata": {},
   "source": [
    "## Answer here\n",
    "\n",
    "#### I use doc2vec"
   ]
  },
  {
   "cell_type": "code",
   "execution_count": 79,
   "metadata": {},
   "outputs": [],
   "source": [
    "# https://clay-atlas.com/blog/2020/07/14/python-cn-nlp-gensim-doc2vec-model/"
   ]
  },
  {
   "cell_type": "code",
   "execution_count": 80,
   "metadata": {},
   "outputs": [],
   "source": [
    "from gensim.models import doc2vec\n",
    "from collections import namedtuple"
   ]
  },
  {
   "cell_type": "code",
   "execution_count": 76,
   "metadata": {},
   "outputs": [],
   "source": [
    "# preprocess\n",
    "docs = []\n",
    "analyzedDocument = namedtuple('AnalyzedDocument', 'words tags')\n",
    "for index, text in enumerate(train_df['text']):\n",
    "    words = text.split()\n",
    "    docs.append(analyzedDocument(words, [index]))"
   ]
  },
  {
   "cell_type": "code",
   "execution_count": 85,
   "metadata": {},
   "outputs": [],
   "source": [
    "from gensim.models import Doc2Vec\n",
    "\n",
    "def train(x_train, size=300):\n",
    "    model = Doc2Vec(x_train,min_count=1,window=3,sample=1e-3,negative=5,workers=4)\n",
    "    model.train(x_train,total_examples=model.corpus_count,epochs=10)\n",
    "    return model\n",
    "\n",
    "model_dm = train(docs)"
   ]
  },
  {
   "cell_type": "markdown",
   "metadata": {},
   "source": [
    "### 8. Clustering: k-means\n",
    "\n",
    "Here we introduce how to use `sklearn` to do the basic **unsupervised learning** approach, k-means.    \n",
    "\n",
    "more details: http://scikit-learn.org/stable/modules/generated/sklearn.cluster.KMeans.html\n"
   ]
  },
  {
   "cell_type": "markdown",
   "metadata": {},
   "source": [
    "#### Basic concept\n",
    "\n",
    "![Image](https://i.imgur.com/PEdUf54.png)\n",
    "\n",
    "(img source: https://towardsdatascience.com/k-means-clustering-identifying-f-r-i-e-n-d-s-in-the-world-of-strangers-695537505d)"
   ]
  },
  {
   "cell_type": "code",
   "execution_count": 86,
   "metadata": {
    "scrolled": true
   },
   "outputs": [
    {
     "name": "stdout",
     "output_type": "stream",
     "text": [
      "target words:  ['happy', 'fear', 'angry', 'car', 'teacher', 'computer']\n"
     ]
    }
   ],
   "source": [
    "# clustering target\n",
    "target_list = ['happy', 'fear', 'angry', 'car', 'teacher', 'computer']\n",
    "print('target words: ', target_list)\n",
    "\n",
    "# convert to word vector\n",
    "X = [word2vec_model.wv[word] for word in target_list]"
   ]
  },
  {
   "cell_type": "code",
   "execution_count": 87,
   "metadata": {
    "scrolled": true
   },
   "outputs": [
    {
     "name": "stdout",
     "output_type": "stream",
     "text": [
      "word: happy \t cluster: 0\n",
      "word: fear \t cluster: 0\n",
      "word: angry \t cluster: 0\n",
      "word: car \t cluster: 1\n",
      "word: teacher \t cluster: 1\n",
      "word: computer \t cluster: 1\n"
     ]
    }
   ],
   "source": [
    "from sklearn.cluster import KMeans\n",
    "\n",
    "# we have to decide how many cluster (k) we want\n",
    "k = 2\n",
    "\n",
    "# k-means model\n",
    "kmeans_model = KMeans(n_clusters=k)\n",
    "kmeans_model.fit(X)\n",
    "\n",
    "# cluster result\n",
    "cluster_result = kmeans_model.labels_\n",
    "\n",
    "# show\n",
    "for i in range(len(target_list)):\n",
    "    print('word: {} \\t cluster: {}'.format(target_list[i], cluster_result[i]))"
   ]
  },
  {
   "cell_type": "markdown",
   "metadata": {},
   "source": [
    "![Imgur](pics/pic6.png)"
   ]
  },
  {
   "cell_type": "code",
   "execution_count": 88,
   "metadata": {
    "scrolled": true
   },
   "outputs": [
    {
     "data": {
      "text/plain": [
       "array([1])"
      ]
     },
     "execution_count": 88,
     "metadata": {},
     "output_type": "execute_result"
    }
   ],
   "source": [
    "#check cluster membership\n",
    "word = 'student'\n",
    "word_vec = word2vec_model.wv[word]\n",
    "kmeans_model.predict([word_vec])"
   ]
  },
  {
   "cell_type": "code",
   "execution_count": 89,
   "metadata": {
    "scrolled": true
   },
   "outputs": [
    {
     "data": {
      "text/plain": [
       "array([0])"
      ]
     },
     "execution_count": 89,
     "metadata": {},
     "output_type": "execute_result"
    }
   ],
   "source": [
    "#check cluster membership\n",
    "word = 'sad'\n",
    "word_vec = word2vec_model.wv[word]\n",
    "kmeans_model.predict([word_vec])"
   ]
  },
  {
   "cell_type": "markdown",
   "metadata": {},
   "source": [
    "\n",
    "## 9. High-dimension Visualization: t-SNE\n",
    "\n",
    "No matter if you use the Bag-of-words, tf-idf, or word2vec, it's very hard to see the embedding result, because the dimension is larger than 3.  \n",
    "\n",
    "In Lab 1, we already talked about PCA. We can use PCA to reduce the dimension of our data, then visualize it. However, if you dig deeper into the result, you'd find it is insufficient...\n",
    "\n",
    "Our aim will be to create a visualization similar to the one below:"
   ]
  },
  {
   "cell_type": "markdown",
   "metadata": {},
   "source": [
    "  "
   ]
  },
  {
   "cell_type": "markdown",
   "metadata": {},
   "source": [
    "![Image](pics/pic7.png)\n",
    "source: https://www.fabian-keller.de/research/high-dimensional-data-visualization "
   ]
  },
  {
   "cell_type": "markdown",
   "metadata": {},
   "source": [
    "  "
   ]
  },
  {
   "cell_type": "markdown",
   "metadata": {},
   "source": [
    "Here we would like to introduce another visualization method called t-SNE.  \n",
    "http://scikit-learn.org/stable/modules/generated/sklearn.manifold.TSNE.html "
   ]
  },
  {
   "cell_type": "markdown",
   "metadata": {},
   "source": [
    "### 9.1 Prepare visualizing target"
   ]
  },
  {
   "cell_type": "markdown",
   "metadata": {},
   "source": [
    "Let's repare data lists like:\n",
    "    - happpy words\n",
    "    - angry words\n",
    "    - data words\n",
    "    - mining words"
   ]
  },
  {
   "cell_type": "code",
   "execution_count": 90,
   "metadata": {
    "scrolled": true
   },
   "outputs": [
    {
     "name": "stdout",
     "output_type": "stream",
     "text": [
      "happy_words:  ['happy', 'glad', 'pleased', 'ecstatic', 'overjoyed', 'thrilled']\n",
      "angry_words:  ['angry', 'irate', 'enraged', 'indignant', 'incensed', 'annoyed']\n",
      "data_words:  ['data', 'Data', 'datasets', 'dataset', 'databases', 'statistics']\n",
      "mining_words:  ['mining', 'Mining', 'mines', 'coal_mining', 'mine', 'miner']\n",
      "\n",
      "target words: \n",
      "['happy', 'glad', 'pleased', 'ecstatic', 'overjoyed', 'thrilled', 'angry', 'irate', 'enraged', 'indignant', 'incensed', 'annoyed', 'data', 'Data', 'datasets', 'dataset', 'databases', 'statistics', 'mining', 'Mining', 'mines', 'coal_mining', 'mine', 'miner']\n",
      "\n",
      "color list:\n",
      "['b', 'b', 'b', 'b', 'b', 'b', 'g', 'g', 'g', 'g', 'g', 'g', 'r', 'r', 'r', 'r', 'r', 'r', 'y', 'y', 'y', 'y', 'y', 'y']\n"
     ]
    }
   ],
   "source": [
    "word_list = ['happy', 'angry', 'data', 'mining']\n",
    "\n",
    "topn = 5\n",
    "happy_words = ['happy'] + [word_ for word_, sim_ in w2v_google_model.most_similar('happy', topn=topn)]\n",
    "angry_words = ['angry'] + [word_ for word_, sim_ in w2v_google_model.most_similar('angry', topn=topn)]        \n",
    "data_words = ['data'] + [word_ for word_, sim_ in w2v_google_model.most_similar('data', topn=topn)]        \n",
    "mining_words = ['mining'] + [word_ for word_, sim_ in w2v_google_model.most_similar('mining', topn=topn)]        \n",
    "\n",
    "print('happy_words: ', happy_words)\n",
    "print('angry_words: ', angry_words)\n",
    "print('data_words: ', data_words)\n",
    "print('mining_words: ', mining_words)\n",
    "\n",
    "target_words = happy_words + angry_words + data_words + mining_words\n",
    "print('\\ntarget words: ')\n",
    "print(target_words)\n",
    "\n",
    "print('\\ncolor list:')\n",
    "cn = topn + 1\n",
    "color = ['b'] * cn + ['g'] * cn + ['r'] * cn + ['y'] * cn\n",
    "print(color)"
   ]
  },
  {
   "cell_type": "markdown",
   "metadata": {},
   "source": [
    "### 9.1 Plot using t-SNE (2-dimension)"
   ]
  },
  {
   "cell_type": "code",
   "execution_count": 91,
   "metadata": {
    "scrolled": true
   },
   "outputs": [
    {
     "data": {
      "image/png": "[encoded data removed]",
      "text/plain": [
       "<Figure size 862.5x862.5 with 1 Axes>"
      ]
     },
     "metadata": {
      "needs_background": "light"
     },
     "output_type": "display_data"
    }
   ],
   "source": [
    "%matplotlib inline\n",
    "import matplotlib.pyplot as plt\n",
    "from sklearn.manifold import TSNE\n",
    "\n",
    "## w2v model\n",
    "model = w2v_google_model\n",
    "\n",
    "## prepare training word vectors\n",
    "size = 200\n",
    "target_size = len(target_words)\n",
    "# https://stackoverflow.com/questions/66868221/gensim-3-8-0-to-gensim-4-0-0\n",
    "# all_word = list(model.vocab.keys())\n",
    "all_word = list(model.index_to_key)\n",
    "word_train = target_words + all_word[:size]\n",
    "X_train = model[word_train]\n",
    "\n",
    "## t-SNE model\n",
    "tsne = TSNE(n_components=2, metric='cosine', random_state=28)\n",
    "\n",
    "## training\n",
    "X_tsne = tsne.fit_transform(X_train)\n",
    "\n",
    "## plot the result\n",
    "plt.figure(figsize=(7.5, 7.5), dpi=115)\n",
    "plt.scatter(X_tsne[:target_size, 0], X_tsne[:target_size, 1], c=color)\n",
    "for label, x, y in zip(target_words, X_tsne[:target_size, 0], X_tsne[:target_size, 1]):\n",
    "    plt.annotate(label, xy=(x,y), xytext=(0,0),  textcoords='offset points')\n",
    "plt.show()"
   ]
  },
  {
   "cell_type": "markdown",
   "metadata": {},
   "source": [
    "---\n",
    "### ** >>> Exercise 8 (Take home): **  \n",
    "\n",
    "Generate a t-SNE visualization to show the 15 words most related to the words \"angry\", \"happy\", \"sad\", \"fear\" (60 words total)."
   ]
  },
  {
   "cell_type": "code",
   "execution_count": 92,
   "metadata": {
    "scrolled": true
   },
   "outputs": [
    {
     "name": "stdout",
     "output_type": "stream",
     "text": [
      "angry_words:  ['angry', 'irate', 'enraged', 'indignant', 'incensed', 'annoyed', 'agitated', 'frustrated', 'furious', 'unhappy', 'outraged', 'livid', 'irritated', 'exasperated', 'angrier']\n",
      "happy_words:  ['happy', 'glad', 'pleased', 'ecstatic', 'overjoyed', 'thrilled', 'satisfied', 'proud', 'delighted', 'disappointed', 'excited', 'happier', 'Said_Hirschbeck', 'elated', 'thankful']\n",
      "sad_words:  ['sad', 'saddening', 'Sad', 'saddened', 'heartbreaking', 'disheartening', 'Meny_Friedman', 'parishioner_Pat_Patello', 'saddens_me', 'distressing', 'reminders_bobbing', 'Turkoman_Shiites', 'saddest', 'unfortunate', 'sorry']\n",
      "fear_words:  ['fear', 'fearful', 'fears', 'Fear', 'fearing', 'worry', 'dread', 'feared', 'anxiety', 'apprehension', 'afraid', 'worries', 'concern', 'distrust', 'worried']\n",
      "\n",
      "target words: \n",
      "['angry', 'irate', 'enraged', 'indignant', 'incensed', 'annoyed', 'agitated', 'frustrated', 'furious', 'unhappy', 'outraged', 'livid', 'irritated', 'exasperated', 'angrier', 'happy', 'glad', 'pleased', 'ecstatic', 'overjoyed', 'thrilled', 'satisfied', 'proud', 'delighted', 'disappointed', 'excited', 'happier', 'Said_Hirschbeck', 'elated', 'thankful', 'sad', 'saddening', 'Sad', 'saddened', 'heartbreaking', 'disheartening', 'Meny_Friedman', 'parishioner_Pat_Patello', 'saddens_me', 'distressing', 'reminders_bobbing', 'Turkoman_Shiites', 'saddest', 'unfortunate', 'sorry', 'fear', 'fearful', 'fears', 'Fear', 'fearing', 'worry', 'dread', 'feared', 'anxiety', 'apprehension', 'afraid', 'worries', 'concern', 'distrust', 'worried']\n",
      "\n",
      "color list:\n",
      "['b', 'b', 'b', 'b', 'b', 'b', 'b', 'b', 'b', 'b', 'b', 'b', 'b', 'b', 'b', 'g', 'g', 'g', 'g', 'g', 'g', 'g', 'g', 'g', 'g', 'g', 'g', 'g', 'g', 'g', 'r', 'r', 'r', 'r', 'r', 'r', 'r', 'r', 'r', 'r', 'r', 'r', 'r', 'r', 'r', 'y', 'y', 'y', 'y', 'y', 'y', 'y', 'y', 'y', 'y', 'y', 'y', 'y', 'y', 'y']\n"
     ]
    }
   ],
   "source": [
    "word_list = ['angry', 'happy', 'sad', 'fear']\n",
    "\n",
    "topn = 14 # 0~14: total 15\n",
    "angry_words = ['angry'] + [word_ for word_, sim_ in w2v_google_model.most_similar('angry', topn=topn)]\n",
    "happy_words = ['happy'] + [word_ for word_, sim_ in w2v_google_model.most_similar('happy', topn=topn)]        \n",
    "sad_words = ['sad'] + [word_ for word_, sim_ in w2v_google_model.most_similar('sad', topn=topn)]        \n",
    "fear_words = ['fear'] + [word_ for word_, sim_ in w2v_google_model.most_similar('fear', topn=topn)]        \n",
    "\n",
    "print('angry_words: ', angry_words)\n",
    "print('happy_words: ', happy_words)\n",
    "print('sad_words: ', sad_words)\n",
    "print('fear_words: ', fear_words)\n",
    "\n",
    "target_words_ = angry_words + happy_words + sad_words + fear_words\n",
    "print('\\ntarget words: ')\n",
    "print(target_words_)\n",
    "\n",
    "print('\\ncolor list:')\n",
    "cn = topn + 1\n",
    "color = ['b'] * cn + ['g'] * cn + ['r'] * cn + ['y'] * cn\n",
    "print(color)"
   ]
  },
  {
   "cell_type": "markdown",
   "metadata": {},
   "source": [
    "---"
   ]
  },
  {
   "cell_type": "code",
   "execution_count": 94,
   "metadata": {
    "scrolled": true
   },
   "outputs": [
    {
     "data": {
      "image/png": "[encoded data removed]",
      "text/plain": [
       "<Figure size 862.5x862.5 with 1 Axes>"
      ]
     },
     "metadata": {
      "needs_background": "light"
     },
     "output_type": "display_data"
    }
   ],
   "source": [
    "%matplotlib inline\n",
    "import matplotlib.pyplot as plt\n",
    "from sklearn.manifold import TSNE\n",
    "\n",
    "## w2v model\n",
    "model = w2v_google_model\n",
    "\n",
    "## prepare training word vectors\n",
    "size = 2000\n",
    "target_size = len(target_words_)\n",
    "# https://stackoverflow.com/questions/66868221/gensim-3-8-0-to-gensim-4-0-0\n",
    "# all_word = list(model.vocab.keys())\n",
    "all_word = list(model.index_to_key)\n",
    "word_train = target_words_ + all_word[:size]\n",
    "X_train = model[word_train]\n",
    "\n",
    "## t-SNE model\n",
    "tsne = TSNE(n_components=2, metric='cosine', random_state=28)\n",
    "\n",
    "## training\n",
    "X_tsne = tsne.fit_transform(X_train)\n",
    "\n",
    "## plot the result\n",
    "plt.figure(figsize=(7.5, 7.5), dpi=115)\n",
    "plt.scatter(X_tsne[:target_size, 0], X_tsne[:target_size, 1], c=color)\n",
    "for label, x, y in zip(target_words_, X_tsne[:target_size, 0], X_tsne[:target_size, 1]):\n",
    "    plt.annotate(label, xy=(x,y), xytext=(0,0),  textcoords='offset points')\n",
    "plt.show()"
   ]
  },
  {
   "cell_type": "markdown",
   "metadata": {},
   "source": [
    "## A report of my work developping the model for the competition \n",
    "\n",
    "(You can use code and comment it). This report should include what your preprocessing steps, the feature engineering steps and an explanation of your model. You can also mention different things you tried and insights you gained."
   ]
  },
  {
   "cell_type": "code",
   "execution_count": null,
   "metadata": {
    "scrolled": true
   },
   "outputs": [],
   "source": [
    "# This Python 3 environment comes with many helpful analytics libraries installed\n",
    "# It is defined by the kaggle/python Docker image: https://github.com/kaggle/docker-python\n",
    "# For example, here's several helpful packages to load\n",
    "\n",
    "import numpy as np # linear algebra\n",
    "import pandas as pd # data processing, CSV file I/O (e.g. pd.read_csv)\n",
    "\n",
    "# Input data files are available in the read-only \"../input/\" directory\n",
    "# For example, running this (by clicking run or pressing Shift+Enter) will list all files under the input directory\n",
    "\n",
    "import os\n",
    "for dirname, _, filenames in os.walk('/kaggle/input'):\n",
    "    for filename in filenames:\n",
    "        print(os.path.join(dirname, filename))\n",
    "\n",
    "# You can write up to 20GB to the current directory (/kaggle/working/) that gets preserved as output when you create a version using \"Save & Run All\" \n",
    "# You can also write temporary files to /kaggle/temp/, but they won't be saved outside of the current session"
   ]
  },
  {
   "cell_type": "markdown",
   "metadata": {},
   "source": [
    "# Data Preprocessing"
   ]
  },
  {
   "cell_type": "markdown",
   "metadata": {},
   "source": [
    "## Remove emoji.\n",
    "After I read the json file, I found that there are many puctunation and emoji in the text, which we should clean from the data.\n",
    "I must remove emojis and punctuations since all we need is text only. The cell below is modified from the website, https://poopcode.com/how-to-remove-emoji-from-text-in-python/, I also use regular languages to define a function."
   ]
  },
  {
   "cell_type": "code",
   "execution_count": null,
   "metadata": {
    "scrolled": true
   },
   "outputs": [],
   "source": [
    "from string import punctuation\n",
    "\n",
    "import re\n",
    "\n",
    "def remove_emojis(data):\n",
    "    emoj = re.compile(\"[\"\n",
    "        u\"\\U00002700-\\U000027BF\"  # Dingbats\n",
    "        u\"\\U0001F600-\\U0001F64F\"  # Emoticons\n",
    "        u\"\\U00002600-\\U000026FF\"  # Miscellaneous Symbols\n",
    "        u\"\\U0001F300-\\U0001F5FF\"  # Miscellaneous Symbols And Pictographs\n",
    "        u\"\\U0001F900-\\U0001F9FF\"  # Supplemental Symbols and Pictographs\n",
    "        u\"\\U0001FA70-\\U0001FAFF\"  # Symbols and Pictographs Extended-A\n",
    "        u\"\\U0001F680-\\U0001F6FF\"  # Transport and Map Symbols\n",
    "                      \"]+\", re.UNICODE)\n",
    "    return re.sub(emoj, '', data)\n",
    "\n",
    "\n",
    "def remove_punctuation_emoji(value):\n",
    "    value = remove_emojis(value)\n",
    "    return ''.join([c for c in value if (c not in punctuation)])"
   ]
  },
  {
   "cell_type": "markdown",
   "metadata": {},
   "source": [
    "# Feature engineering\n",
    "The next step is feature engineering. I construct a data structure to save the data.\n",
    "There are 6 main classes of data, including train(for train data), test(for test data), emotion_map(for 8 types of emotions), tweep_map(the encoded map), max_voc(for the length of tweep_map), max_l(for the longest list to append 0). The subclasses of trains and test are defined as their name to store the corresponding data."
   ]
  },
  {
   "cell_type": "code",
   "execution_count": null,
   "metadata": {
    "scrolled": true
   },
   "outputs": [],
   "source": [
    "data = {\n",
    "    \"train\":{\n",
    "        \"<id>\":{\n",
    "            \"emotion\":\"\",\n",
    "            \"emotion_class\":1,\n",
    "            \"text\":\"\",\n",
    "            \"text_calss\":[],\n",
    "        }  \n",
    "    },\n",
    "    \"test\":{\n",
    "        \"<id>\":{\n",
    "            \"text\":\"\",\n",
    "            \"text_calss\":[],\n",
    "        },\n",
    "    },\n",
    "    \"emotion_map\":{},\n",
    "    \"tweet_map\":{},\n",
    "    \"max_voc\":1,\n",
    "    \"max_l\":1,\n",
    "}"
   ]
  },
  {
   "cell_type": "markdown",
   "metadata": {},
   "source": [
    "# Data Preprocessing"
   ]
  },
  {
   "cell_type": "markdown",
   "metadata": {},
   "source": [
    "## Import json"
   ]
  },
  {
   "cell_type": "markdown",
   "metadata": {},
   "source": [
    "To import “tweets_DM.json”, I tried many functions because this json cannot be read directly by read_json(). In this case, and finally read the text from tweets_DM.json. "
   ]
  },
  {
   "cell_type": "code",
   "execution_count": null,
   "metadata": {
    "scrolled": true
   },
   "outputs": [],
   "source": [
    "import json\n",
    "with open(\"../input/dm2021-lab2-hw2/tweets_DM.json\",\"r\") as file:\n",
    "    tweets_json_list = [eval(f) for f in file.readlines()]"
   ]
  },
  {
   "cell_type": "markdown",
   "metadata": {},
   "source": [
    "I call function to remove punctuations and emojis from tweets’ text."
   ]
  },
  {
   "cell_type": "code",
   "execution_count": null,
   "metadata": {
    "scrolled": true
   },
   "outputs": [],
   "source": [
    "tweets_user = {u['_source'][\"tweet\"][\"tweet_id\"]:remove_punctuation_emoji(u['_source'][\"tweet\"][\"text\"]) for u in tweets_json_list}"
   ]
  },
  {
   "cell_type": "markdown",
   "metadata": {},
   "source": [
    "## Import Emotion"
   ]
  },
  {
   "cell_type": "markdown",
   "metadata": {},
   "source": [
    "To import “emotion.csv”, I modified function from this website, \n",
    "https://blog.csdn.net/u013402321/article/details/80277022, to successfully read all the text from emotion.csv. I store the data as a dictionary, keys for id and values for emotion."
   ]
  },
  {
   "cell_type": "code",
   "execution_count": null,
   "metadata": {
    "scrolled": true
   },
   "outputs": [],
   "source": [
    "import csv\n",
    "\n",
    "emotion = None\n",
    "with open(\"../input/dm2021-lab2-hw2/emotion.csv\",newline='') as csvfile:\n",
    "    reader = csv.reader(csvfile, delimiter=',')\n",
    "    _ = next(reader)\n",
    "    emotion = {rows[0]:rows[1] for rows in reader} #row[0]:key row[1]:data, dict as a key value"
   ]
  },
  {
   "cell_type": "markdown",
   "metadata": {},
   "source": [
    "## Import Data Identification"
   ]
  },
  {
   "cell_type": "markdown",
   "metadata": {},
   "source": [
    "To import “data_identification.csv”, I modified function from this website, \n",
    "https://blog.csdn.net/u013402321/article/details/80277022, to successfully read all the text from data_identification.csv. I store the data as a dictionary, keys for id and values for identification."
   ]
  },
  {
   "cell_type": "code",
   "execution_count": null,
   "metadata": {
    "scrolled": true
   },
   "outputs": [],
   "source": [
    "data_identification = None\n",
    "\n",
    "with open(\"../input/dm2021-lab2-hw2/data_identification.csv\",newline='') as csvfile:\n",
    "    reader = csv.reader(csvfile, delimiter=',')\n",
    "    _ = next(reader) # iterate once to skip the first line\n",
    "    data_identification = {rows[0]: rows[1] for rows in reader} "
   ]
  },
  {
   "cell_type": "markdown",
   "metadata": {},
   "source": [
    "# Data Preprocessing"
   ]
  },
  {
   "cell_type": "markdown",
   "metadata": {},
   "source": [
    "## Create Data"
   ]
  },
  {
   "cell_type": "markdown",
   "metadata": {},
   "source": [
    "I categorized data as two types, “train” and “test”. The data[“train”][k] stores the id whose identification is train while data[“train”][k] stores the id of the test data. "
   ]
  },
  {
   "cell_type": "code",
   "execution_count": null,
   "metadata": {
    "scrolled": true
   },
   "outputs": [],
   "source": [
    "key_to_remove = []\n",
    "for k in data[\"train\"].keys():\n",
    "    if k in tweets_user:\n",
    "        data[\"train\"][k][\"text\"] = tweets_user[k]\n",
    "    else:\n",
    "        key_to_remove.append(k)\n",
    "\n",
    "for k in key_to_remove:\n",
    "    data[\"train\"].pop(k)"
   ]
  },
  {
   "cell_type": "markdown",
   "metadata": {},
   "source": [
    "I remove the data whose user is not in our list of “tweets_user.” "
   ]
  },
  {
   "cell_type": "code",
   "execution_count": null,
   "metadata": {
    "scrolled": true
   },
   "outputs": [],
   "source": [
    "key_to_remove = []\n",
    "for k in data[\"train\"].keys():\n",
    "    if k in tweets_user:\n",
    "        data[\"train\"][k][\"text\"] = tweets_user[k]\n",
    "    else:\n",
    "        key_to_remove.append(k)\n",
    "\n",
    "for k in key_to_remove:\n",
    "    data[\"train\"].pop(k)"
   ]
  },
  {
   "cell_type": "code",
   "execution_count": null,
   "metadata": {
    "scrolled": true
   },
   "outputs": [],
   "source": [
    "key_to_remove = []\n",
    "for k in data[\"test\"].keys():\n",
    "    if k in tweets_user:\n",
    "        data[\"test\"][k][\"text\"] = tweets_user[k]\n",
    "    else:\n",
    "        key_to_remove.append(k)\n",
    "\n",
    "for k in key_to_remove:\n",
    "    data[\"test\"].pop(k)"
   ]
  },
  {
   "cell_type": "markdown",
   "metadata": {},
   "source": [
    "I remove the data without emotion from data[“train”]. "
   ]
  },
  {
   "cell_type": "code",
   "execution_count": null,
   "metadata": {
    "scrolled": true
   },
   "outputs": [],
   "source": [
    "key_to_remove = []\n",
    "for k in data[\"train\"].keys():\n",
    "    if k in emotion:\n",
    "        data[\"train\"][k][\"emotion\"] = emotion[k]\n",
    "    else:\n",
    "        key_to_remove.append(k)\n",
    "    \n",
    "for k in key_to_remove:\n",
    "    data[\"train\"].pop(k)"
   ]
  },
  {
   "cell_type": "markdown",
   "metadata": {},
   "source": [
    "# Feature engineering"
   ]
  },
  {
   "cell_type": "markdown",
   "metadata": {},
   "source": [
    "## Encode Emotion\n",
    "Now, I make a list with the names of 8 types of emotions."
   ]
  },
  {
   "cell_type": "code",
   "execution_count": null,
   "metadata": {
    "scrolled": true
   },
   "outputs": [],
   "source": [
    "class_emotion = []\n",
    "\n",
    "for m in emotion.keys():\n",
    "    if emotion[m] not in class_emotion:\n",
    "        class_emotion.append(emotion[m])"
   ]
  },
  {
   "cell_type": "markdown",
   "metadata": {},
   "source": [
    "I create an emotion_map for encoding the emotions. The below picture is the outcome, which is identical to our expectation."
   ]
  },
  {
   "cell_type": "code",
   "execution_count": null,
   "metadata": {
    "scrolled": true
   },
   "outputs": [],
   "source": [
    "emotion_map = {v:i for i,v in enumerate(class_emotion)}"
   ]
  },
  {
   "cell_type": "markdown",
   "metadata": {},
   "source": [
    "![pic0](img/pic1.png)"
   ]
  },
  {
   "cell_type": "markdown",
   "metadata": {},
   "source": [
    "I store each training data’s emotion to “emotion_class”(the encoded emotion) by looking up the emotion_map."
   ]
  },
  {
   "cell_type": "code",
   "execution_count": null,
   "metadata": {
    "scrolled": true
   },
   "outputs": [],
   "source": [
    "for k in data[\"train\"].keys():\n",
    "    data[\"train\"][k][\"emotion_class\"] = emotion_map[data[\"train\"][k][\"emotion\"]]"
   ]
  },
  {
   "cell_type": "markdown",
   "metadata": {},
   "source": [
    "I store the emotion_map to the data structure, data[“emotion_map”]."
   ]
  },
  {
   "cell_type": "code",
   "execution_count": null,
   "metadata": {
    "scrolled": true
   },
   "outputs": [],
   "source": [
    "data[\"emotion_map\"] = emotion_map"
   ]
  },
  {
   "cell_type": "markdown",
   "metadata": {},
   "source": [
    "# Data Preprocessing"
   ]
  },
  {
   "cell_type": "markdown",
   "metadata": {},
   "source": [
    "## Analyze Text\n",
    "I use the tool tqdm to visualize data processing. I referred the literature from the website, https://clay-atlas.com/blog/2019/11/11/python-chinese-tutorial-tqdm-progress-and-ourself/, to assist me to know the remaining time. \n",
    "\n",
    "As title, I use a loop to count the frequency of words and store the outcome in the list, tweets_data. "
   ]
  },
  {
   "cell_type": "code",
   "execution_count": null,
   "metadata": {
    "scrolled": true
   },
   "outputs": [],
   "source": [
    "from tqdm import tqdm "
   ]
  },
  {
   "cell_type": "code",
   "execution_count": null,
   "metadata": {
    "scrolled": true
   },
   "outputs": [],
   "source": [
    "tweets_data = {}\n",
    "for k in tqdm(tweets_user.keys()):\n",
    "    users_text_list = tweets_user[k].split(\" \")\n",
    "    for t in users_text_list:\n",
    "        t = t.lower()\n",
    "        if t not in tweets_data:\n",
    "            tweets_data[t] = 1\n",
    "        else:\n",
    "            tweets_data[t] = tweets_data[t] + 1"
   ]
  },
  {
   "cell_type": "markdown",
   "metadata": {},
   "source": [
    "After counting the frequency and I found that some meaningless strings appear a lot, including ‘\\r’, ‘\\u’, digits, words with digits and so on. Therefore, I create the list, “remove_key”, to store their keys and remove meaningless strings."
   ]
  },
  {
   "cell_type": "code",
   "execution_count": null,
   "metadata": {
    "scrolled": true
   },
   "outputs": [],
   "source": [
    "remove_key = []\n",
    "for k in tweets_data.keys():\n",
    "    if '\\r' in k:\n",
    "        remove_key.append(k)\n",
    "    elif r'\\u' in k:\n",
    "        remove_key.append(k)\n",
    "    elif '\"\\\"' in k:\n",
    "        remove_key.append(k)\n",
    "    elif k.isdigit():\n",
    "        remove_key.append(k)\n",
    "    elif k == '':\n",
    "        remove_key.append(k)\n",
    "    elif k[0].isdigit():\n",
    "        remove_key.append(k)\n",
    "    elif len(k)>10:\n",
    "        remove_key.append(k)\n",
    "    elif '0' in k:\n",
    "        remove_key.append(k)\n",
    "    elif '1' in k:\n",
    "        remove_key.append(k)\n",
    "    elif '2' in k:\n",
    "        remove_key.append(k)\n",
    "    elif '3' in k:\n",
    "        remove_key.append(k)\n",
    "    elif '4' in k:\n",
    "        remove_key.append(k)\n",
    "    elif '5' in k:\n",
    "        remove_key.append(k)\n",
    "    elif '6' in k:\n",
    "        remove_key.append(k)\n",
    "    elif '7' in k:\n",
    "        remove_key.append(k)\n",
    "    elif '8' in k:\n",
    "        remove_key.append(k)\n",
    "    elif '9' in k:\n",
    "        remove_key.append(k)     \n",
    "        \n",
    "for i in remove_key:\n",
    "    tweets_data.pop(i)"
   ]
  },
  {
   "cell_type": "markdown",
   "metadata": {},
   "source": [
    "To sort the tweets_data according to the frequencies of these words and store it sorted_tweets_key."
   ]
  },
  {
   "cell_type": "code",
   "execution_count": null,
   "metadata": {
    "scrolled": true
   },
   "outputs": [],
   "source": [
    "sorted_tweets_key = sorted(tweets_data.keys())"
   ]
  },
  {
   "cell_type": "markdown",
   "metadata": {},
   "source": [
    "# Feature engineering"
   ]
  },
  {
   "cell_type": "markdown",
   "metadata": {},
   "source": [
    "To create an encoded map"
   ]
  },
  {
   "cell_type": "markdown",
   "metadata": {},
   "source": [
    "The dictionary, tweet_map, is an encoded map, which encode words with a number. The empty string is the first and encode as 0. I encode the rest words by a for loop with two variables."
   ]
  },
  {
   "cell_type": "code",
   "execution_count": null,
   "metadata": {
    "scrolled": true
   },
   "outputs": [],
   "source": [
    "tweet_map  = {'':0}\n",
    "for i,v in enumerate(sorted_tweets_key):\n",
    "    tweet_map[v] = i + 1"
   ]
  },
  {
   "cell_type": "markdown",
   "metadata": {},
   "source": [
    "The variable, l_max, is to store the longest length. The cell below is to find the list with the longest strength. "
   ]
  },
  {
   "cell_type": "code",
   "execution_count": null,
   "metadata": {
    "scrolled": true
   },
   "outputs": [],
   "source": [
    "l_max = 0\n",
    "for k in tqdm(tweets_user.keys()):\n",
    "    users_text_list = tweets_user[k].split(\" \")\n",
    "    embedded_text = []\n",
    "    for t in users_text_list:\n",
    "        t = t.lower()\n",
    "        if t in tweet_map:\n",
    "            embedded_text.append(tweet_map[t])\n",
    "    if len(embedded_text)>l_max:\n",
    "        l_max = len(embedded_text)"
   ]
  },
  {
   "cell_type": "markdown",
   "metadata": {},
   "source": [
    "Append 0 to those lists and store the embebbed_text into the data structure we defined, data[“train”][index][“text_class”]."
   ]
  },
  {
   "cell_type": "code",
   "execution_count": null,
   "metadata": {
    "scrolled": true
   },
   "outputs": [],
   "source": [
    "for k in tqdm(data[\"train\"].keys()):\n",
    "    users_text_list = data[\"train\"][k][\"text\"].split(\" \")\n",
    "    embedded_text = []\n",
    "    for t in users_text_list:\n",
    "        t = t.lower()\n",
    "        if t in tweet_map:\n",
    "            embedded_text.append(tweet_map[t])\n",
    "    while len(embedded_text)<l_max:\n",
    "        embedded_text.append(0)\n",
    "    data[\"train\"][k][\"text_class\"] = embedded_text"
   ]
  },
  {
   "cell_type": "markdown",
   "metadata": {},
   "source": [
    "Append 0 to those lists and store the embebbed_text into the data structure we defined, data[“test”][index][“text_class”]."
   ]
  },
  {
   "cell_type": "code",
   "execution_count": null,
   "metadata": {
    "scrolled": true
   },
   "outputs": [],
   "source": [
    "for k in tqdm(data[\"test\"].keys()):\n",
    "    users_text_list = data[\"test\"][k][\"text\"].split(\" \")\n",
    "    embedded_text = []\n",
    "    for t in users_text_list:\n",
    "        t = t.lower()\n",
    "        if t in tweet_map:\n",
    "            embedded_text.append(tweet_map[t])\n",
    "    while len(embedded_text)<l_max:\n",
    "        embedded_text.append(0)\n",
    "    data[\"test\"][k][\"text_class\"] = embedded_tex"
   ]
  },
  {
   "cell_type": "markdown",
   "metadata": {},
   "source": [
    "As the picture, we assume that the text is **but sometimes the hurt last instead**, and we encode this word. But we our longest embedded_text is 118, which means we need to append 0 for the rest of the list. We do this in each text, called encoding the text."
   ]
  },
  {
   "cell_type": "markdown",
   "metadata": {},
   "source": [
    "![pic0](img/pic2.png) "
   ]
  },
  {
   "cell_type": "markdown",
   "metadata": {},
   "source": [
    "![pic0](img/pic3.png)"
   ]
  },
  {
   "cell_type": "markdown",
   "metadata": {},
   "source": [
    "We store the tweet_map, the length of the tweet_map, and 118 into the data structure we defined, data[“tweet_map”], data[“max_voc”], and data[“max_l”]"
   ]
  },
  {
   "cell_type": "code",
   "execution_count": null,
   "metadata": {
    "scrolled": true
   },
   "outputs": [],
   "source": [
    "data[\"tweet_map\"] = tweet_map\n",
    "data[\"max_voc\"] = len(tweet_map)\n",
    "data[\"max_l\"] = l_max"
   ]
  },
  {
   "cell_type": "markdown",
   "metadata": {},
   "source": [
    "# Explaination of my model"
   ]
  },
  {
   "cell_type": "markdown",
   "metadata": {},
   "source": [
    "I use LSTM(Long short-term memory) model from Pytorch. The reason why I use this model is because LSTM model is most **recommended** when it comes to sentiment analysis. Moreover, the training consumes too much time so I only training once and store the result as a .pt file. I screenshot and post here because I delete all the training part of my model.\n",
    "\n",
    "According to literature, here are pros in terms of LSTM model.\n",
    "LSTM is great technique for sentiment analysis. Since the meaning of a word has dependencies on the ones that preceded it. This improved NLP a lot and narrative analysis to leverage Neural Networks.\n",
    "\n",
    "LSTM can be used for text generation. You can train the model on the text of a writer, say, and the model will be able to generate new sentences that mimics the style and interests of the writer.\n",
    "\n",
    "Sequence-to-Sequence LSTM models are the state of the technique for translations. They also have a wide array of applications like time series forecasting."
   ]
  },
  {
   "cell_type": "markdown",
   "metadata": {},
   "source": [
    "Define a class to train the data. There are three functions required, including __init__(), __len__(), __getitem__()."
   ]
  },
  {
   "cell_type": "markdown",
   "metadata": {},
   "source": [
    "![pic0](img/pic4.png)"
   ]
  },
  {
   "cell_type": "markdown",
   "metadata": {},
   "source": [
    "To train the data, I use LSTM model. I modified codes from this website, https://cnvrg.io/pytorch-lstm/"
   ]
  },
  {
   "cell_type": "markdown",
   "metadata": {},
   "source": [
    "![pic0](img/pic5.png) "
   ]
  },
  {
   "cell_type": "markdown",
   "metadata": {},
   "source": [
    "By the reference, https://pytorch.org/tutorials/beginner/pytorch_with_examples.html, I define this train function to train data."
   ]
  },
  {
   "cell_type": "markdown",
   "metadata": {},
   "source": [
    "![pic0](img/pic6.png)"
   ]
  },
  {
   "cell_type": "markdown",
   "metadata": {},
   "source": [
    "I use the first GPU to train. Set the size of batch is 4. According to my experiences, I set learning rate(LR) 0.001 and epoch 4. The reason why I set assign variables as these values is based on my experience. It used to have greater result in terms of accuracy."
   ]
  },
  {
   "cell_type": "markdown",
   "metadata": {},
   "source": [
    "![pic0](img/pic7.png) "
   ]
  },
  {
   "cell_type": "markdown",
   "metadata": {},
   "source": [
    "Declare the list we will use when we train the data. Append data by loop. The first loop is for training data while the second one is for test data."
   ]
  },
  {
   "cell_type": "markdown",
   "metadata": {},
   "source": [
    "![pic0](img/pic8.png)"
   ]
  },
  {
   "cell_type": "markdown",
   "metadata": {},
   "source": [
    "![pic0](img/pic9.png)"
   ]
  },
  {
   "cell_type": "markdown",
   "metadata": {},
   "source": [
    "I divide the data into 10 shards to index the data and let DataLoader gets data from dataset according to the index.  "
   ]
  },
  {
   "cell_type": "markdown",
   "metadata": {},
   "source": [
    "![pic0](img/pic10.png)"
   ]
  },
  {
   "cell_type": "markdown",
   "metadata": {},
   "source": [
    "The below cells are set to train data. Load dataset to tweet_dataset and assign DataLoader with data to tweet_dataloaders. The model is LSTM_model with setting the variables. Moreover, the reason I use Adam as my optimizer is that Adam converges quicklier than other ones. "
   ]
  },
  {
   "cell_type": "markdown",
   "metadata": {},
   "source": [
    "![pic0](img/pic12.png)"
   ]
  },
  {
   "cell_type": "markdown",
   "metadata": {},
   "source": [
    "Start to train. I trained on my laptop for more 10 hours with CUDA and more 6 hours on Kaggle with GPU. "
   ]
  },
  {
   "cell_type": "markdown",
   "metadata": {},
   "source": [
    "![pic0](img/pic11.png)"
   ]
  },
  {
   "cell_type": "markdown",
   "metadata": {},
   "source": [
    "# Load Trained Data\n",
    "\n",
    "I saved the training result and upload as a dataset.\n",
    "After import torch and related libraries, I load the training result by PyTorch."
   ]
  },
  {
   "cell_type": "code",
   "execution_count": null,
   "metadata": {
    "scrolled": true
   },
   "outputs": [],
   "source": [
    "import torch \n",
    "\n",
    "torch.load(\"../input/traineddmhw2/model_full.pt\")"
   ]
  },
  {
   "cell_type": "code",
   "execution_count": null,
   "metadata": {
    "scrolled": true
   },
   "outputs": [],
   "source": [
    "import torch\n",
    "from torch.utils.data import DataLoader, Dataset\n",
    "from torch.utils.data import SubsetRandomSampler\n",
    "from torch import nn"
   ]
  },
  {
   "cell_type": "markdown",
   "metadata": {},
   "source": [
    "# Test\n",
    "Define a class to test the data. There are three functions required, including __init__(), __len__(), __getitem__(). The below cell is the similar to the training part. "
   ]
  },
  {
   "cell_type": "code",
   "execution_count": null,
   "metadata": {
    "scrolled": true
   },
   "outputs": [],
   "source": [
    "class TWEETDataset_test(Dataset):\n",
    "    def __init__(self, name, feature):\n",
    "        self.name = name\n",
    "        self.feature = [torch.tensor(i) for i in feature]\n",
    "\n",
    "    def __len__(self):\n",
    "        return len(self.feature)\n",
    "\n",
    "    def __getitem__(self, idx):\n",
    "        return self.name[idx], self.feature[idx]"
   ]
  },
  {
   "cell_type": "code",
   "execution_count": null,
   "metadata": {
    "scrolled": true
   },
   "outputs": [],
   "source": [
    "# This script was modified from\n",
    "# https://github.com/TalwalkarLab/leaf/blob/master/models/shakespeare/stacked_lstm.py\n",
    "import torch\n",
    "\n",
    "class LSTM_model(torch.nn.Module):\n",
    "    def __init__(self, n_vocab=80, output = 10, embedding_dim=64, hidden_dim_1=256, nb_layers_1=1):\n",
    "        super(LSTM_model, self).__init__()\n",
    "\n",
    "        self.embedding_dim = embedding_dim\n",
    "        self.hidden_dim_1 = hidden_dim_1\n",
    "\n",
    "        self.embeddings = torch.nn.Embedding(n_vocab, embedding_dim)\n",
    "        self.lstm_1 = torch.nn.LSTM(embedding_dim, hidden_dim_1, nb_layers_1)\n",
    "        self.hidden2out = torch.nn.Linear(hidden_dim_1, output)\n",
    "\n",
    "    def forward(self, seq_in):\n",
    "        embeddings = self.embeddings(seq_in.t())\n",
    "        lstm_out, h_state1 = self.lstm_1(embeddings)\n",
    "        \n",
    "        ht = lstm_out[-1]\n",
    "        out = self.hidden2out(ht)\n",
    "\n",
    "        return out"
   ]
  },
  {
   "cell_type": "markdown",
   "metadata": {},
   "source": [
    "This is the test function. I define this test function with reference here, https://pytorch.org/docs/stable/torch.html. "
   ]
  },
  {
   "cell_type": "code",
   "execution_count": null,
   "metadata": {},
   "outputs": [],
   "source": [
    "def test(model, test_data):\n",
    "    model.to(device)\n",
    "    model.eval()\n",
    "    \n",
    "    names = []\n",
    "    predicts = []\n",
    "\n",
    "    with torch.no_grad():\n",
    "        for name, data in tqdm(test_data):\n",
    "\n",
    "            data = data.to(device)\n",
    "            pred = model(data)\n",
    "            _, predicted = torch.max(pred, -1)\n",
    "            \n",
    "            names.append(name)\n",
    "            predicts.append(predicted)\n",
    "\n",
    "    return names, predicts"
   ]
  },
  {
   "cell_type": "markdown",
   "metadata": {},
   "source": [
    "The below cell is **the same** as the training part."
   ]
  },
  {
   "cell_type": "code",
   "execution_count": null,
   "metadata": {},
   "outputs": [],
   "source": [
    "device = torch.device(\"cuda:0\")\n",
    "batch_size = 4\n",
    "LR = 0.001\n",
    "epoch = 2"
   ]
  },
  {
   "cell_type": "code",
   "execution_count": null,
   "metadata": {},
   "outputs": [],
   "source": [
    "train_x = []\n",
    "train_y = []\n",
    "\n",
    "test_name = []\n",
    "test_x = []"
   ]
  },
  {
   "cell_type": "code",
   "execution_count": null,
   "metadata": {},
   "outputs": [],
   "source": [
    "for k in data[\"train\"].keys():\n",
    "    train_x.append(data[\"train\"][k]['text_class'])\n",
    "    train_y.append(data[\"train\"][k]['emotion_class'])\n",
    "        \n",
    "for k in data[\"test\"].keys():\n",
    "    test_name.append(k)\n",
    "    test_x.append(data[\"test\"][k]['text_class'])"
   ]
  },
  {
   "cell_type": "markdown",
   "metadata": {},
   "source": [
    "test_dataset = TWEETDataset_test(name=test_name, feature=test_x)\n",
    "test_dataloader = DataLoader(test_dataset, batch_size=batch_size)"
   ]
  },
  {
   "cell_type": "code",
   "execution_count": null,
   "metadata": {},
   "outputs": [],
   "source": [
    "model = LSTM_model(n_vocab=data[\"max_voc\"], output = 8, embedding_dim=128, hidden_dim_1=256, nb_layers_1=1)"
   ]
  },
  {
   "cell_type": "markdown",
   "metadata": {},
   "source": [
    "Now I call test function and we can get “id” from name and “emotion” from predict."
   ]
  },
  {
   "cell_type": "code",
   "execution_count": null,
   "metadata": {},
   "outputs": [],
   "source": [
    "name, predict = tqdm(test(model=model,test_data=test_dataloader))"
   ]
  },
  {
   "cell_type": "code",
   "execution_count": null,
   "metadata": {},
   "outputs": [],
   "source": [
    "def get_emotion_by_class(value):\n",
    "    return list(data[\"emotion_map\"] .keys())[list(data[\"emotion_map\"].values()).index(value)]"
   ]
  },
  {
   "cell_type": "markdown",
   "metadata": {},
   "source": [
    "I saved the result into the list, result."
   ]
  },
  {
   "cell_type": "markdown",
   "metadata": {},
   "source": [
    "result = {}\n",
    "for n,p in zip(name, predict):\n",
    "    p = p.cpu().tolist()\n",
    "    for i,v in enumerate(n):\n",
    "        result[v] = get_emotion_by_class(p[i])"
   ]
  },
  {
   "cell_type": "markdown",
   "metadata": {},
   "source": [
    "# Submission "
   ]
  },
  {
   "cell_type": "markdown",
   "metadata": {},
   "source": [
    "The last part is submission. I modified the code from here, https://pandas.pydata.org/docs/reference/api/pandas.DataFrame.to_csv.html,\n",
    "and get the output in excel format.\n"
   ]
  },
  {
   "cell_type": "code",
   "execution_count": null,
   "metadata": {},
   "outputs": [],
   "source": [
    "result_id = list(result.keys())\n",
    "result_values = list(result.values())"
   ]
  },
  {
   "cell_type": "code",
   "execution_count": null,
   "metadata": {},
   "outputs": [],
   "source": [
    "import pandas\n",
    "save_data = pandas.DataFrame({\"id\":result_id, \"emotion\":result_values})\n",
    "save_data.to_csv(\"./Submission.csv\",index=False)"
   ]
  }
 ],
 "metadata": {
  "kernelspec": {
   "display_name": "Python 3 (ipykernel)",
   "language": "python",
   "name": "python3"
  },
  "language_info": {
   "codemirror_mode": {
    "name": "ipython",
    "version": 3
   },
   "file_extension": ".py",
   "mimetype": "text/x-python",
   "name": "python",
   "nbconvert_exporter": "python",
   "pygments_lexer": "ipython3",
   "version": "3.9.7"
  },
  "varInspector": {
   "cols": {
    "lenName": 16,
    "lenType": 16,
    "lenVar": 40
   },
   "kernels_config": {
    "python": {
     "delete_cmd_postfix": "",
     "delete_cmd_prefix": "del ",
     "library": "var_list.py",
     "varRefreshCmd": "print(var_dic_list())"
    },
    "r": {
     "delete_cmd_postfix": ") ",
     "delete_cmd_prefix": "rm(",
     "library": "var_list.r",
     "varRefreshCmd": "cat(var_dic_list()) "
    }
   },
   "types_to_exclude": [
    "module",
    "function",
    "builtin_function_or_method",
    "instance",
    "_Feature"
   ],
   "window_display": false
  }
 },
 "nbformat": 4,
 "nbformat_minor": 2
}
